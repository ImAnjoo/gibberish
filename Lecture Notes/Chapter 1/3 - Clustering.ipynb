{
 "cells": [
  {
   "cell_type": "markdown",
   "metadata": {
    "slideshow": {
     "slide_type": "slide"
    }
   },
   "source": [
    "***\n",
    "*Course:* [Math 535](https://people.math.wisc.edu/~roch/mmids/index.html) - Mathematical Methods in Data Science (MMiDS)  \n",
    "*Author:* [Sebastien Roch](https://people.math.wisc.edu/~roch/), Department of Mathematics, University of Wisconsin-Madison  \n",
    "*Updated:* Jan. 25, 2023   \n",
    "*Copyright:* &copy; 2022 Sebastien Roch\n",
    "***\n",
    "Updated by Hanbaek Lyu \n",
    "\n",
    "\n",
    "\n",
    "# Chapter 1 - Introduction and review\n",
    "\n",
    "## 1.3 Clustering: an objective, an algorithm and a guarantee"
   ]
  },
  {
   "cell_type": "markdown",
   "metadata": {
    "slideshow": {
     "slide_type": "slide"
    }
   },
   "source": [
    "Consider the following fundamental problem in data science. We are given $n$ vectors $\\mathbf{x}_1,\\ldots,\\mathbf{x}_n$ in $\\mathbb{R}^d$. Our goal is to find a good <a href=\"https://en.wikipedia.org/wiki/Cluster_analysis\">clustering</a>: loosely speaking, we want to partition these data points into $k$ disjoint subsets - or clusters - with small pairwise distances within clusters and large pairwise distances across clusters. \n",
    "\n",
    "To make this rather vague problem more precise, we consider a specific objective function known as the $k$-means objective. Our approach here will be typical of how one might approach a mathematical data science problem. We will first formulate the problem as an optimization problem, then derive an algorithm to solve it, and finally provide some rigorous guarantees about the output."
   ]
  },
  {
   "cell_type": "markdown",
   "metadata": {
    "slideshow": {
     "slide_type": "fragment"
    }
   },
   "source": [
    "![clustering](https://upload.wikimedia.org/wikipedia/commons/thumb/c/c8/Cluster-2.svg/320px-Cluster-2.svg.png)\n",
    "\n",
    "([Source](https://commons.wikimedia.org/wiki/File:Cluster-2.svg))"
   ]
  },
  {
   "cell_type": "markdown",
   "metadata": {
    "slideshow": {
     "slide_type": "slide"
    }
   },
   "source": [
    "But first, we need to define precisely what we are trying to extract from the data. What is the mathematical structure of the solution sought? Fix a number of clusters $k$. Formally, we define a clustering as a partition.\n",
    "\n",
    "**Definition (Partition):** A partition of $[n] = \\{1,\\ldots,n\\}$ of size $k$ is a collection of non-empty subsets $C_1,\\ldots,C_k \\subseteq [n]$ that:\n",
    "- are pairwise disjoint, i.e., $C_i \\cap C_j = \\emptyset$, $\\forall i \\neq j$\n",
    "- cover all of $[n]$, i.e., $\\cup_{i=1}^k C_i = [n]$. $\\lhd$"
   ]
  },
  {
   "cell_type": "markdown",
   "metadata": {
    "slideshow": {
     "slide_type": "slide"
    }
   },
   "source": [
    "**Example:** Suppose we are given $8$ data points in $\\mathbb{R}^2$ as follows:\n",
    "\n",
    "$$\n",
    "\\begin{align*}\n",
    "&\\mathbf{x}_1 = \\begin{pmatrix}1\\\\0\\end{pmatrix},\n",
    "\\mathbf{x}_2 = \\begin{pmatrix}-2\\\\0\\end{pmatrix},\n",
    "\\mathbf{x}_3 = \\begin{pmatrix}-2\\\\1\\end{pmatrix},\n",
    "\\mathbf{x}_4 = \\begin{pmatrix}1\\\\-3\\end{pmatrix},\\\\\n",
    "&\\mathbf{x}_5 = \\begin{pmatrix}-10\\\\10\\end{pmatrix},\n",
    "\\mathbf{x}_6 = \\begin{pmatrix}2\\\\-2\\end{pmatrix},\n",
    "\\mathbf{x}_7 = \\begin{pmatrix}-3\\\\1\\end{pmatrix},\n",
    "\\mathbf{x}_8 = \\begin{pmatrix}3\\\\-1\\end{pmatrix}.\n",
    "\\end{align*}\n",
    "$$\n",
    "\n",
    "So here $n=8$ and $d = 2$. Assume we look for $k = 3$ clusters. Then a valid clustering would be for instance:\n",
    "\n",
    "$$\n",
    "C_1 = \\{1, 4, 6, 8\\}, C_2 = \\{2, 3, 7\\}, C_3 = \\{5\\},\n",
    "$$\n",
    "\n",
    "which corresponds to assigning data points $\\mathbf{x}_1, \\mathbf{x}_4, \\mathbf{x}_6, \\mathbf{x}_8$ to the first cluster, data points $\\mathbf{x}_2, \\mathbf{x}_3, \\mathbf{x}_7$ to the second cluster and data point $\\mathbf{x}_5$ to the third cluster. Note in particular that the sets $C_1, C_2, C_3$ satisfy the conditions of a partition, i.e., they are disjoint and cover all of $[8] = \\{1,2,\\ldots,8\\}$. Or put differently, each data point is assigned to one and exactly one cluster. $\\lhd$"
   ]
  },
  {
   "cell_type": "markdown",
   "metadata": {
    "slideshow": {
     "slide_type": "skip"
    }
   },
   "source": [
    "**Remark:** We number the clusters $C_1,\\ldots,C_k$ for notational convenience, but their order is meaningless. Two partitions are the same if they are the same family of subsets. E.g., in the previous example, \n",
    "$C_1 = \\{1, 4, 6, 8\\}, C_2 = \\{2, 3, 7\\}, C_3 = \\{5\\}$ and $C_1 = \\{5\\}, C_2 = \\{1, 4, 6, 8\\}, C_3 = \\{2, 3, 7\\}$ are equivalent clusterings.  $\\lhd$"
   ]
  },
  {
   "cell_type": "markdown",
   "metadata": {
    "slideshow": {
     "slide_type": "slide"
    }
   },
   "source": [
    "### 1.3.1 The $k$-means objective"
   ]
  },
  {
   "cell_type": "markdown",
   "metadata": {
    "slideshow": {
     "slide_type": "slide"
    }
   },
   "source": [
    "Under the $k$-means objective, the \"cost\" of $C_1,\\ldots,C_k$ is then defined as\n",
    "\n",
    "$$\n",
    "\\mathcal{G}(C_1,\\ldots,C_k) = \\min_{\\boldsymbol{\\mu}_1,\\ldots,\\boldsymbol{\\mu}_k \\in \\mathbb{R}^d} \n",
    "\\sum_{i=1}^k \\sum_{j \\in C_i} \\|\\mathbf{x}_j - \\boldsymbol{\\mu}_i\\|^2.\n",
    "$$\n",
    "\n",
    "Here $\\boldsymbol{\\mu}_i \\in \\mathbb{R}^d$ is the representative - or center - of cluster $C_i$. Note that $\\boldsymbol{\\mu}_i$ need not be one of the $\\mathbf{x}_j$'s."
   ]
  },
  {
   "cell_type": "markdown",
   "metadata": {
    "slideshow": {
     "slide_type": "fragment"
    }
   },
   "source": [
    "Our goal is to find a partition $C_1,\\ldots,C_k$ that minimizes $\\mathcal{G}(C_1,\\ldots,C_k)$, i.e., solves the problem\n",
    "\n",
    "$$\n",
    "\\min_{C_1,\\ldots,C_k} \\mathcal{G}(C_1,\\ldots,C_k)\n",
    "$$\n",
    "\n",
    "over all partitions of $[n]$ of size $k$."
   ]
  },
  {
   "cell_type": "markdown",
   "metadata": {
    "slideshow": {
     "slide_type": "slide"
    }
   },
   "source": [
    "To quote [Wikipedia](https://en.wikipedia.org/wiki/Cluster_analysis#Centroid-based_clustering):\n",
    "\n",
    "> In centroid-based clustering, clusters are represented by a central vector, which may not necessarily be a member of the data set. When the number of clusters is fixed to k, k-means clustering gives a formal definition as an optimization problem: find the k cluster centers and assign the objects to the nearest cluster center, such that the squared distances from the cluster are minimized."
   ]
  },
  {
   "cell_type": "markdown",
   "metadata": {
    "slideshow": {
     "slide_type": "fragment"
    }
   },
   "source": [
    "![k-means](https://upload.wikimedia.org/wikipedia/commons/thumb/d/d1/KMeans-density-data.svg/239px-KMeans-density-data.svg.png)\n",
    "\n",
    "([Source](https://commons.wikimedia.org/wiki/File:KMeans-density-data.svg))"
   ]
  },
  {
   "cell_type": "markdown",
   "metadata": {
    "slideshow": {
     "slide_type": "slide"
    }
   },
   "source": [
    "In general, the problem is <a href=\"https://en.wikipedia.org/wiki/NP-hardness\">NP-hard</a>, that is, roughly speaking no \"fast\" algorithm is expected to exist to solve it. The $k$-means algorithm is a popular heuristic. It is based on the idea that the following two sub-problems are easy to solve: \n",
    "\n",
    "1. finding the optimal representatives for a fixed partition;\n",
    "2. finding the optimal partition for a fixed set of representatives.\n",
    "\n",
    "One then alternates between the two (perhaps until progress falls below a tolerance). This is reasonable since our goal, as we pointed out above, is to solve the minimization problem\n",
    "\n",
    "$$\n",
    "\\min_{C_1,\\ldots,C_k} \\min_{\\boldsymbol{\\mu}_1,\\ldots,\\boldsymbol{\\mu}_k \\in \\mathbb{R}^d} \n",
    "\\sum_{i=1}^k \\sum_{j \\in C_i} \\|\\mathbf{x}_j - \\boldsymbol{\\mu}_i\\|^2\n",
    "$$\n",
    "\n",
    "where $C_1,\\ldots,C_k$ ranges over all partitions of $[n]$ of size $k$. Fixing partition $C_1,\\ldots,C_k$ and miniminizing over $\\boldsymbol{\\mu}_1,\\ldots,\\boldsymbol{\\mu}_k \\in \\mathbb{R}^d$ corresponds to solving the first problem above, while fixing $\\boldsymbol{\\mu}_1,\\ldots,\\boldsymbol{\\mu}_k \\in \\mathbb{R}^d$ and miniminizing over partitions $C_1,\\ldots,C_k$ corresponds to solving the second problem."
   ]
  },
  {
   "cell_type": "markdown",
   "metadata": {
    "slideshow": {
     "slide_type": "skip"
    }
   },
   "source": [
    "#### 1.3.1.1 A useful observation: minimizing a quadratic function\n",
    "\n",
    "To elaborate on the first step above, we review an elementary fact about [quadratic functions](https://en.wikipedia.org/wiki/Quadratic_function)."
   ]
  },
  {
   "cell_type": "markdown",
   "metadata": {
    "slideshow": {
     "slide_type": "skip"
    }
   },
   "source": [
    "Consider the function\n",
    "\n",
    "$$q(x) = a x^2 + b x + c.$$\n",
    "\n",
    "When $a > 0$, $q$ has a unique minimum. \n",
    "\n",
    "***\n",
    "\n",
    "**Lemma (Minimum of a Quadratic Function):** Let $q(x) = a x^2 + b x + c$ where $a > 0$ and $x \\in \\mathbb{R}$. The unique global minimum of $q$ is attained at \n",
    "\n",
    "$$\n",
    "x^* = -\\frac{b}{2a}.\n",
    "$$\n",
    "\n",
    "***"
   ]
  },
  {
   "cell_type": "markdown",
   "metadata": {
    "slideshow": {
     "slide_type": "skip"
    }
   },
   "source": [
    "*Proof:* By the *First-Order Necessary Condition*, a global minimizer of $q$ (which is necessarily a local minimizer) satisfies the condition\n",
    "\n",
    "$$\n",
    "\\frac{\\mathrm{d}}{\\mathrm{d}x} q(x) = 2 a x + b = 0,\n",
    "$$\n",
    "\n",
    "whose unique solution is \n",
    "\n",
    "$$\n",
    "x^*= -\\frac{b}{2a}.\n",
    "$$ "
   ]
  },
  {
   "cell_type": "markdown",
   "metadata": {
    "slideshow": {
     "slide_type": "skip"
    }
   },
   "source": [
    "To see that $x^*$ is indeed a global minimizer, we re-write $q$ as\n",
    "\n",
    "$$\n",
    "\\begin{align*}\n",
    "q(x) \n",
    "&= a \\left(x^2 + 2 \\left[\\frac{b}{2a}\\right] x\\right) + c\\\\\n",
    "&= a \\left(x^2 + 2 \\left[\\frac{b}{2a}\\right] x + \\left[\\frac{b}{2a}\\right]^2\\right) - a \\left[\\frac{b}{2a}\\right]^2 + c\\\\\n",
    "&= a (x - x^*)^2 + \\left[c - \\frac{b^2}{4a}\\right].\n",
    "\\end{align*}\n",
    "$$ \n",
    "\n",
    "Clearly, any other $x$ gives a higher value for $q$. The step on the second line above is called [*Completing the Square*](https://en.wikipedia.org/wiki/Completing_the_square). $\\square$"
   ]
  },
  {
   "cell_type": "markdown",
   "metadata": {
    "slideshow": {
     "slide_type": "skip"
    }
   },
   "source": [
    "**NUMERICAL CORNER:** Here's a numerical example."
   ]
  },
  {
   "cell_type": "code",
   "execution_count": 8,
   "metadata": {
    "slideshow": {
     "slide_type": "skip"
    }
   },
   "outputs": [],
   "source": [
    "# Python 3\n",
    "import numpy as np\n",
    "import matplotlib.pyplot as plt"
   ]
  },
  {
   "cell_type": "code",
   "execution_count": 9,
   "metadata": {
    "slideshow": {
     "slide_type": "skip"
    }
   },
   "outputs": [],
   "source": [
    "def q(a,b,c,x):\n",
    "    return a * (x**2) + b * x + c"
   ]
  },
  {
   "cell_type": "code",
   "execution_count": 10,
   "metadata": {
    "slideshow": {
     "slide_type": "skip"
    }
   },
   "outputs": [
    {
     "data": {
      "image/png": "[encoded data removed]",
      "text/plain": [
       "<Figure size 640x480 with 1 Axes>"
      ]
     },
     "metadata": {},
     "output_type": "display_data"
    }
   ],
   "source": [
    "x = np.linspace(-2, 2, 100)\n",
    "\n",
    "plt.plot(x, q(2,4,-1,x))\n",
    "plt.plot(x, q(2,-4,4,x))\n",
    "plt.plot(x, q(-2,0,4,x))\n",
    "\n",
    "plt.legend(['y1', 'y2', 'y3'])\n",
    "\n",
    "plt.show()"
   ]
  },
  {
   "cell_type": "markdown",
   "metadata": {
    "slideshow": {
     "slide_type": "skip"
    }
   },
   "source": [
    "#### 1.3.1.2 Sub-problem 1: finding the optimal representatives"
   ]
  },
  {
   "cell_type": "markdown",
   "metadata": {
    "slideshow": {
     "slide_type": "slide"
    }
   },
   "source": [
    "We denote by $|C_i|$ the number of elements in $C_i$."
   ]
  },
  {
   "cell_type": "markdown",
   "metadata": {
    "slideshow": {
     "slide_type": "fragment"
    }
   },
   "source": [
    "**Example (continued):** Continuing the example above, the sizes of the clusters are respectively $|C_1| = 4, |C_2| = 3, |C_3| = 1$. Note in particulat that $|C_1| + |C_2| + |C_3| = 8 = n$, as follows from the fact that $C_1, C_2, C_3$ is a partition. $\\lhd$"
   ]
  },
  {
   "cell_type": "markdown",
   "metadata": {
    "slideshow": {
     "slide_type": "slide"
    }
   },
   "source": [
    "***\n",
    "\n",
    "<b>Lemma (Optimal Representatives):</b> Fix a partition $C_1,\\ldots,C_k$. The optimal representatives under the objective \n",
    "\n",
    "$$\n",
    "\\begin{align*}\n",
    "G(C_1,\\ldots,C_k; \\boldsymbol{\\mu}_1, \\ldots, \\boldsymbol{\\mu}_k)\n",
    "&= \\sum_{i=1}^k \\sum_{j \\in C_i} \\|\\mathbf{x}_j - \\boldsymbol{\\mu}_i\\|^2,\n",
    "\\end{align*}\n",
    "$$\n",
    "\n",
    "are the centroids\n",
    "\n",
    "$$\n",
    "\\boldsymbol{\\mu}_i^* = \\frac{1}{|C_i|} \\sum_{j\\in C_i} \\mathbf{x}_j.\n",
    "$$\n",
    "\n",
    "***\n",
    "\n",
    "*Proof idea:* The objective $G$ can be written as a sum, where each term is a quadratic function in one component of one of the $\\boldsymbol{\\mu}_i$'s. Each of these terms is minimized by the average of the corresponding components of the $\\mathbf{x}_j$'s belonging $C_i$."
   ]
  },
  {
   "cell_type": "markdown",
   "metadata": {
    "slideshow": {
     "slide_type": "slide"
    }
   },
   "source": [
    "**Example (continued):** Continuing with the previous example, we compute the optimal representatives for the fixed partition $C_1, C_2, C_3$ above. We get\n",
    "\n",
    "$$\n",
    "\\begin{align*}\n",
    "\\boldsymbol{\\mu}_1^*\n",
    "&= \\frac{1}{4}[\\mathbf{x}_1 + \\mathbf{x}_4 + \\mathbf{x}_6 + \\mathbf{x}_8]\\\\\n",
    "&= \\frac{1}{4}\\left[\\begin{pmatrix}1\\\\0\\end{pmatrix} +\n",
    "\\begin{pmatrix}1\\\\-3\\end{pmatrix} +\n",
    "\\begin{pmatrix}2\\\\-2\\end{pmatrix} +\n",
    "\\begin{pmatrix}3\\\\-1\\end{pmatrix}\n",
    "\\right]\n",
    "= \\begin{pmatrix}7/4\\\\-3/2\\end{pmatrix},\\\\\n",
    "\\boldsymbol{\\mu}_2^*\n",
    "&= \\frac{1}{3}[\\mathbf{x}_2 + \\mathbf{x}_3 + \\mathbf{x}_7]\\\\\n",
    "&= \\frac{1}{3}\\left[\\begin{pmatrix}-2\\\\0\\end{pmatrix}+\n",
    "\\begin{pmatrix}-2\\\\1\\end{pmatrix}+\n",
    "\\begin{pmatrix}-3\\\\1\\end{pmatrix}\n",
    "\\right]\n",
    "= \\begin{pmatrix}-7/3\\\\2/3\\end{pmatrix},\\\\\n",
    "\\boldsymbol{\\mu}_3^*\n",
    "&= \\frac{1}{1}[\\mathbf{x}_5]\n",
    "= \\begin{pmatrix}-10\\\\10\\end{pmatrix}.\n",
    "\\end{align*}\n",
    "$$\n",
    "\n",
    "$\\lhd$"
   ]
  },
  {
   "cell_type": "markdown",
   "metadata": {
    "slideshow": {
     "slide_type": "skip"
    }
   },
   "source": [
    "*Proof (Optimal Representatives):* Using the notation $\\mathbf{x}_j = (x_{j1},\\ldots,x_{jd})^T$ and similarly for $\\boldsymbol{\\mu}_i$, note that we can expand the $k$-means objective as\n",
    "\n",
    "$$\n",
    "\\begin{align*}\n",
    "\\sum_{i=1}^k \\sum_{j \\in C_i} \\|\\mathbf{x}_j - \\boldsymbol{\\mu}_i\\|^2\n",
    "&= \\sum_{i=1}^k \\sum_{j \\in C_i} \\sum_{m=1}^d (x_{jm} - \\mu_{im})^2\\\\\n",
    "&= \\sum_{i=1}^k \\sum_{m=1}^d \\left[\\sum_{j \\in C_i} (x_{jm} - \\mu_{im})^2\\right].\n",
    "\\end{align*}\n",
    "$$\n",
    "\n",
    "The expression in square brackets is a quadratic function in $\\mu_{im}$\n",
    "\n",
    "$$\n",
    "q_{im}(\\mu_{im})\n",
    "= \\left\\{\\sum_{j \\in C_i} x_{jm}^2\\right\\} + \\left\\{- 2 \\sum_{j \\in C_i} x_{jm}\\right\\} \\mu_{im}  + \\left\\{|C_i| \\right\\} \\mu_{im}^2,\n",
    "$$\n",
    "\n",
    "and therefore, by the formula for the *Minimum of a Quadratic Function*, \n",
    "is minimized at \n",
    "\n",
    "$$\n",
    "\\mu_{im}^* \n",
    "= - \\frac{- 2 \\sum_{j \\in C_i} x_{jm}}{2 |C_i|}\n",
    "= \\frac{1}{|C_i|} \\sum_{j \\in C_i} x_{jm}.\n",
    "$$\n",
    "\n",
    "Since each term $q_{im}(\\mu_{im})$ in the sum over $i, m$ making up the objective function $G$ is strictly minimized at $\\boldsymbol{\\mu}_1^*,\\ldots, \\boldsymbol{\\mu}_k^*$, so is $G$. $\\square$"
   ]
  },
  {
   "cell_type": "markdown",
   "metadata": {
    "slideshow": {
     "slide_type": "skip"
    }
   },
   "source": [
    "#### 1.3.1.3 Sub-problem 2: finding the optimal partition"
   ]
  },
  {
   "cell_type": "markdown",
   "metadata": {
    "slideshow": {
     "slide_type": "slide"
    }
   },
   "source": [
    "Given $n$ vectors $\\mathbf{x}_1,\\ldots,\\mathbf{x}_n$ in $\\mathbb{R}^d$ and a partition $C_1, \\ldots, C_k \\subseteq [n]$, it will be useful to have some notation for the corresponding cluster assignment: we define $c(j) = i$ if $j \\in C_i$."
   ]
  },
  {
   "cell_type": "markdown",
   "metadata": {
    "slideshow": {
     "slide_type": "fragment"
    }
   },
   "source": [
    "**Example (continued):** Continuing the example above, the clusters\n",
    "$\n",
    "C_1 = \\{1, 4, 6, 8\\}, C_2 = \\{2, 3, 7\\}, C_3 = \\{5\\}\n",
    "$\n",
    "correspond to the assignment \n",
    "\n",
    "$$\n",
    "c(1) = 1, c(2) = 2, c(3) = 2, c(4) = 1, c(5) = 3, c(6) = 1, c(7) = (2), c(8) = 1. \n",
    "$$\n",
    "\n",
    "$\\lhd$"
   ]
  },
  {
   "cell_type": "markdown",
   "metadata": {
    "slideshow": {
     "slide_type": "slide"
    }
   },
   "source": [
    "***\n",
    "\n",
    "**Lemma (Optimal Clustering):** Fix the representatives $\\boldsymbol{\\mu}_1,\\ldots,\\boldsymbol{\\mu}_k$. An optimal partition under  the objective\n",
    "\n",
    "$$\n",
    "\\begin{align*}\n",
    "G(C_1,\\ldots,C_k; \\boldsymbol{\\mu}_1, \\ldots, \\boldsymbol{\\mu}_k)\n",
    "&= \\sum_{i=1}^k \\sum_{j \\in C_i} \\|\\mathbf{x}_j - \\boldsymbol{\\mu}_i\\|^2,\n",
    "\\end{align*}\n",
    "$$\n",
    "\n",
    "\n",
    "\n",
    "is obtained as follows. For each $j$, find the $\\boldsymbol{\\mu}_i$ that minimizes $\\|\\mathbf{x}_j - \\boldsymbol{\\mu}_i\\|$ (picking one arbitrarily in the case of ties) and assign $\\mathbf{x}_j$ to $C_i$. \n",
    "\n",
    "***\n",
    "\n",
    "*Proof:* If $c$ is the cluster assignment associated to $C_1,\\ldots,C_k$, then we can re-write the objective as\n",
    "\n",
    "\n",
    "$$\n",
    "\\begin{align*}\n",
    "\\sum_{i=1}^k \\sum_{j \\in C_i} \\|\\mathbf{x}_j - \\boldsymbol{\\mu}_i\\|^2\n",
    "= \\sum_{j=1}^n \\|\\mathbf{x}_j - \\boldsymbol{\\mu}_{c(j)}\\|^2,\n",
    "\\end{align*}\n",
    "$$\n",
    "\n",
    "By definition, when the $\\boldsymbol{\\mu}_i$'s are fixed, each term in the sum on the right-hand side is minimized separately by the assignment in the statement. Hence so is the sum itself. Note that we used the fact that the square root is non-decreasing to conclude that minimizing $\\|\\mathbf{x}_j - \\boldsymbol{\\mu}_i\\|^2$ or its square root $\\|\\mathbf{x}_j - \\boldsymbol{\\mu}_i\\|$ are equivalent. $\\square$"
   ]
  },
  {
   "cell_type": "markdown",
   "metadata": {
    "slideshow": {
     "slide_type": "slide"
    }
   },
   "source": [
    "**Example (continued):** Continuing the example above, suppose that we choose representatives \n",
    "\n",
    "$$\n",
    "\\boldsymbol{\\mu}_1 = \\begin{pmatrix}-2\\\\1\\end{pmatrix},\n",
    "\\boldsymbol{\\mu}_2 = \\begin{pmatrix}2\\\\-1\\end{pmatrix},\n",
    "\\boldsymbol{\\mu}_3 = \\begin{pmatrix}-10\\\\10\\end{pmatrix}.\n",
    "$$\n",
    "\n",
    "Then we find the cluster assignment of $\\mathbf{x}_1$ by computing its squared distance to each representative:\n",
    "\n",
    "$$\n",
    "\\|\\mathbf{x}_1 - \\boldsymbol{\\mu}_1\\|\n",
    "= \\left\\|\\begin{pmatrix}1\\\\0\\end{pmatrix} - \\begin{pmatrix}-2\\\\1\\end{pmatrix}\\right\\|\n",
    "= \\sqrt{(1-(-2))^2 + (0-1)^2}\n",
    "= \\sqrt{10},\n",
    "$$\n",
    "$$\n",
    "\\|\\mathbf{x}_1 - \\boldsymbol{\\mu}_2\\|\n",
    "= \\left\\|\\begin{pmatrix}1\\\\0\\end{pmatrix} - \\begin{pmatrix}2\\\\-1\\end{pmatrix}\\right\\|\n",
    "= \\sqrt{(1-2)^2 + (0-(-1))^2}\n",
    "= \\sqrt{2},\n",
    "$$\n",
    "$$\n",
    "\\|\\mathbf{x}_1 - \\boldsymbol{\\mu}_3\\|\n",
    "= \\left\\|\\begin{pmatrix}1\\\\0\\end{pmatrix} - \\begin{pmatrix}-10\\\\10\\end{pmatrix}\\right\\|\n",
    "= \\sqrt{(1-(-10))^2 + (0-10)^2}\n",
    "= \\sqrt{221}.\n",
    "$$\n",
    "\n",
    "The minimum is achieved for $\\boldsymbol{\\mu}_2$ so we assign $\\mathbf{x}_1$ to $C_2$, i.e., $1 \\in C_2$ and $c(1) = 2$. $\\lhd$"
   ]
  },
  {
   "cell_type": "markdown",
   "metadata": {
    "slideshow": {
     "slide_type": "slide"
    }
   },
   "source": [
    "### 1.3.2 The $k$-means algorithm and its analysis"
   ]
  },
  {
   "cell_type": "markdown",
   "metadata": {
    "slideshow": {
     "slide_type": "slide"
    }
   },
   "source": [
    "We are now ready to describe the <a href=\"https://en.wikipedia.org/wiki/K-means_clustering\">$k$-means algorithm</a>, also known as Lloyd's algorithm. We start from a random assignment of clusters. (An alternative [initialization strategy](https://en.wikipedia.org/wiki/K-means_clustering#Initialization_methods) is to choose $k$ representatives at random among the data points.) We then alternate between the optimal choices in the lemmas. In lieu of pseudo-code, we write out the algorithm in Python. "
   ]
  },
  {
   "cell_type": "markdown",
   "metadata": {
    "slideshow": {
     "slide_type": "fragment"
    }
   },
   "source": [
    "The input `X` is assumed to be a collection of $n$ vectors $\\mathbf{x_1}, \\ldots, \\mathbf{x}_n \\in \\mathbb{R}^d$ stacked into a matrix, with one row for each data point. The other input, `k`, is the desired number of clusters. There is an optional input `maxiter` for the maximum number of iterations, which is set to $10$ by default.\n",
    "\n",
    "We first define separate functions for the two main steps. To find the minimum of an array, we use the function [`numpy.argmin`](https://numpy.org/doc/stable/reference/generated/numpy.argmin.html). We also use [`numpy.linalg.norm`](https://numpy.org/doc/stable/reference/generated/numpy.linalg.norm.html) to compute the Euclidean distance."
   ]
  },
  {
   "cell_type": "code",
   "execution_count": 1,
   "metadata": {
    "slideshow": {
     "slide_type": "fragment"
    }
   },
   "outputs": [],
   "source": [
    "from numpy import linalg as LA"
   ]
  },
  {
   "cell_type": "code",
   "execution_count": 2,
   "metadata": {
    "slideshow": {
     "slide_type": "slide"
    }
   },
   "outputs": [],
   "source": [
    "def opt_reps(X, k, assign):\n",
    "    (n, d) = X.shape\n",
    "    reps = np.zeros((k, d))\n",
    "    for i in range(k):\n",
    "        in_i = [j for j in range(n) if assign[j] == i]             \n",
    "        reps[i,:] = np.sum(X[in_i,:],axis=0) / len(in_i)\n",
    "    return reps"
   ]
  },
  {
   "cell_type": "code",
   "execution_count": 3,
   "metadata": {
    "slideshow": {
     "slide_type": "fragment"
    }
   },
   "outputs": [],
   "source": [
    "def opt_clust(X, k, reps):\n",
    "    (n, d) = X.shape\n",
    "    dist = np.zeros(n)\n",
    "    assign = np.zeros(n, dtype=int)\n",
    "    for j in range(n):\n",
    "        dist_to_i = np.array([LA.norm(X[j,:] - reps[i,:]) for i in range(k)])\n",
    "        assign[j] = np.argmin(dist_to_i)\n",
    "        dist[j] = dist_to_i[assign[j]]\n",
    "    G = np.sum(dist ** 2)\n",
    "    print(G)\n",
    "    return assign"
   ]
  },
  {
   "cell_type": "markdown",
   "metadata": {
    "slideshow": {
     "slide_type": "slide"
    }
   },
   "source": [
    "The main function follows. Below, `rng.integers(0,k,n)` is an array of `n` uniformly chosen integers between `0` and `k-1` (inclusive). (See [random.Generator.integers](https://numpy.org/doc/stable/reference/random/generated/numpy.random.Generator.integers.html) for details.)"
   ]
  },
  {
   "cell_type": "code",
   "execution_count": 11,
   "metadata": {
    "slideshow": {
     "slide_type": "fragment"
    }
   },
   "outputs": [],
   "source": [
    "from numpy.random import default_rng\n",
    "rng = default_rng(535)"
   ]
  },
  {
   "cell_type": "code",
   "execution_count": 12,
   "metadata": {
    "scrolled": true,
    "slideshow": {
     "slide_type": "fragment"
    }
   },
   "outputs": [],
   "source": [
    "def mmids_kmeans(X, k, maxiter=10):\n",
    "    (n, d) = X.shape\n",
    "    assign = rng.integers(0,k,n)\n",
    "    reps = np.zeros((k, d), dtype=int)\n",
    "    for iter in range(maxiter):\n",
    "        # Step 1: Optimal representatives for fixed clusters\n",
    "        reps = opt_reps(X, k, assign) \n",
    "        # Step 2: Optimal clusters for fixed representatives\n",
    "        assign = opt_clust(X, k, reps) \n",
    "    return assign"
   ]
  },
  {
   "cell_type": "markdown",
   "metadata": {
    "slideshow": {
     "slide_type": "slide"
    }
   },
   "source": [
    "**NUMERICAL CORNER:** We apply our implementation of $k$-means to the example above. We fix `k` to $3$. Here the data matrix `X` is the following:"
   ]
  },
  {
   "cell_type": "code",
   "execution_count": 16,
   "metadata": {
    "slideshow": {
     "slide_type": "fragment"
    }
   },
   "outputs": [],
   "source": [
    "X = np.array([[1., 0.],[-2., 0.],[-2.,1.],[1.,-3.],[-10.,10.],[2.,-2.],[-3.,1.],[3.,-1.]])"
   ]
  },
  {
   "cell_type": "code",
   "execution_count": 17,
   "metadata": {
    "slideshow": {
     "slide_type": "slide"
    }
   },
   "outputs": [
    {
     "name": "stdout",
     "output_type": "stream",
     "text": [
      "95.46000000000002\n",
      "12.500000000000004\n",
      "9.083333333333334\n",
      "9.083333333333334\n",
      "9.083333333333334\n",
      "9.083333333333334\n",
      "9.083333333333334\n",
      "9.083333333333334\n",
      "9.083333333333334\n",
      "9.083333333333334\n"
     ]
    },
    {
     "data": {
      "image/png": "[encoded data removed]",
      "text/plain": [
       "<Figure size 640x480 with 1 Axes>"
      ]
     },
     "metadata": {},
     "output_type": "display_data"
    }
   ],
   "source": [
    "assign = mmids_kmeans(X, 3)\n",
    "plt.scatter(X[:,0], X[:,1], c=assign)\n",
    "plt.show()"
   ]
  },
  {
   "cell_type": "markdown",
   "metadata": {
    "slideshow": {
     "slide_type": "slide"
    }
   },
   "source": [
    "We can compute the final representatives (optimal for the final assignment) by using the subroutine `opt_reps`."
   ]
  },
  {
   "cell_type": "code",
   "execution_count": 18,
   "metadata": {
    "slideshow": {
     "slide_type": "fragment"
    }
   },
   "outputs": [
    {
     "data": {
      "text/plain": [
       "array([[-10.        ,  10.        ],\n",
       "       [ -2.33333333,   0.66666667],\n",
       "       [  1.75      ,  -1.5       ]])"
      ]
     },
     "execution_count": 18,
     "metadata": {},
     "output_type": "execute_result"
    }
   ],
   "source": [
    "opt_reps(X, 3, assign)"
   ]
  },
  {
   "cell_type": "markdown",
   "metadata": {
    "slideshow": {
     "slide_type": "fragment"
    }
   },
   "source": [
    "Each row is the center of the corresponding cluster. Note these match with the ones we previously computed. Indeed, the clustering is the same (although not necessarily in the same order)."
   ]
  },
  {
   "cell_type": "markdown",
   "metadata": {
    "slideshow": {
     "slide_type": "skip"
    }
   },
   "source": [
    "$\\lhd$"
   ]
  },
  {
   "cell_type": "markdown",
   "metadata": {
    "slideshow": {
     "slide_type": "slide"
    }
   },
   "source": [
    "The $k$-means algorithm is only a heuristic. In particular, it is not guaranteed to find the global minimum of the $k$-means objective. However, it is guaranteed to improve the objective at every iteration, or more precisely, not to make it worse.\n",
    "\n",
    "***\n",
    "\n",
    "**Theorem (Convergence of $k$-means cost):** The sequence of objective function values produced by the $k$-means algorithm is non-increasing.\n",
    "\n",
    "***\n",
    "\n",
    "*Proof idea:* By the *Optimal Representatives* and *Optimal Clustering* lemmas, each step does not increase the objective."
   ]
  },
  {
   "cell_type": "markdown",
   "metadata": {
    "slideshow": {
     "slide_type": "slide"
    }
   },
   "source": [
    "*Proof:* Let $C_1',\\ldots,C_k'$ be the current clusters, with representatives $\\boldsymbol{\\mu}_1',\\ldots,\\boldsymbol{\\mu}_k'$. After Step 1, the new representatives are $\\boldsymbol{\\mu}_1'',\\ldots,\\boldsymbol{\\mu}_k''$. By the *Optimal Representatives Lemma*, they satisfy\n",
    "\n",
    "$$\n",
    "\\sum_{i=1}^k \\sum_{j \\in C_i'} \\|\\mathbf{x}_j - \\boldsymbol{\\mu}_i''\\|^2\n",
    "\\leq \\sum_{i=1}^k \\sum_{j \\in C_i'} \\|\\mathbf{x}_j - \\boldsymbol{\\mu}_i'\\|^2.\n",
    "$$"
   ]
  },
  {
   "cell_type": "markdown",
   "metadata": {
    "slideshow": {
     "slide_type": "fragment"
    }
   },
   "source": [
    "After Step 2, the new clusters are $C_1'',\\ldots,C_k''$. By the *Optimal Clustering Lemma*, they satisfy\n",
    "\n",
    "$$\n",
    "\\sum_{i=1}^k \\sum_{j \\in C_i''} \\|\\mathbf{x}_j - \\boldsymbol{\\mu}_i''\\|^2\n",
    "\\leq \\sum_{i=1}^k \\sum_{j \\in C_i'} \\|\\mathbf{x}_j - \\boldsymbol{\\mu}_i''\\|^2.\n",
    "$$\n",
    "\n",
    "Combining these two inequalities gives\n",
    "\n",
    "$$\n",
    "\\sum_{i=1}^k \\sum_{j \\in C_i''} \\|\\mathbf{x}_j - \\boldsymbol{\\mu}_i''\\|^2\n",
    "\\leq \\sum_{i=1}^k \\sum_{j \\in C_i'} \\|\\mathbf{x}_j - \\boldsymbol{\\mu}_i'\\|^2,\n",
    "$$\n",
    "\n",
    "as claimed. $\\square$"
   ]
  },
  {
   "cell_type": "markdown",
   "metadata": {
    "slideshow": {
     "slide_type": "skip"
    }
   },
   "source": [
    "The sequence of objective values is monotone and bounded from below by $0$. [Hence it converges](https://en.wikipedia.org/wiki/Monotone_convergence_theorem#Convergence_of_a_monotone_sequence_of_real_numbers)."
   ]
  },
  {
   "cell_type": "markdown",
   "metadata": {},
   "source": [
    "In fact, the previous result on convergence of $k$-means Algorithm is a consequence of the following general observation:\n",
    "\n",
    "***\n",
    "\n",
    "**Theorem (Convergence of Alternating Minimization):** Consider the following two-block optimization problem:\n",
    "$$\n",
    "\\min_{x\\in X,\\, y\\in Y} F(x,y),\n",
    "$$\n",
    "where the objective $F$ is bounded from below on the parameter space $X\\times Y$. Consider the following Alternating Minimization algorithm: For $n=1,2,\\dots, N$,\n",
    "$$\n",
    "\\begin{cases}\n",
    "x_{n}\\leftarrow \\min_{x\\in X} F(x,y_{n-1})\\\\\n",
    "y_{n}\\leftarrow \\min_{y\\in Y} F(x_{n},y).\n",
    "\\end{cases}\n",
    "$$\n",
    "Then $F(x_{n},y_{n})$ is non-increasing in $n\\ge 1$ and hence it converges as $n\\rightarrow\\infty$. \n",
    "\n",
    "***\n",
    "\n",
    "*Proof:* By definition, we have \n",
    "$$\n",
    "F(x_{n},y_{n}) \\le F(x_{n}, y_{n-1}) \\le F(x_{n-1}, y_{n-1}).\n",
    "$$"
   ]
  },
  {
   "cell_type": "markdown",
   "metadata": {
    "slideshow": {
     "slide_type": "slide"
    }
   },
   "source": [
    "### 1.3.3 Iris dataset"
   ]
  },
  {
   "cell_type": "markdown",
   "metadata": {
    "slideshow": {
     "slide_type": "skip"
    }
   },
   "source": [
    "We will test our implementation of $k$-means on the iris dataset introduced earlier in the chapter."
   ]
  },
  {
   "cell_type": "code",
   "execution_count": 24,
   "metadata": {
    "slideshow": {
     "slide_type": "skip"
    }
   },
   "outputs": [
    {
     "ename": "ModuleNotFoundError",
     "evalue": "No module named 'google'",
     "output_type": "error",
     "traceback": [
      "\u001b[0;31m---------------------------------------------------------------------------\u001b[0m",
      "\u001b[0;31mModuleNotFoundError\u001b[0m                       Traceback (most recent call last)",
      "Cell \u001b[0;32mIn [24], line 9\u001b[0m\n\u001b[1;32m      1\u001b[0m \u001b[38;5;66;03m# IF RUNNING ON GOOGLE COLAB\u001b[39;00m\n\u001b[1;32m      2\u001b[0m \u001b[38;5;66;03m# When prompted, upload: \u001b[39;00m\n\u001b[1;32m      3\u001b[0m \u001b[38;5;66;03m#     * iris-measurements.csv \u001b[39;00m\n\u001b[0;32m   (...)\u001b[0m\n\u001b[1;32m      6\u001b[0m \u001b[38;5;66;03m# Data source: https://www.math.wisc.edu/~roch/mmids/\u001b[39;00m\n\u001b[1;32m      7\u001b[0m \u001b[38;5;66;03m# Alternative instructions: https://colab.research.google.com/notebooks/io.ipynb\u001b[39;00m\n\u001b[0;32m----> 9\u001b[0m \u001b[38;5;28;01mfrom\u001b[39;00m \u001b[38;5;21;01mgoogle\u001b[39;00m\u001b[38;5;21;01m.\u001b[39;00m\u001b[38;5;21;01mcolab\u001b[39;00m \u001b[38;5;28;01mimport\u001b[39;00m files\n\u001b[1;32m     11\u001b[0m uploaded \u001b[38;5;241m=\u001b[39m files\u001b[38;5;241m.\u001b[39mupload()\n\u001b[1;32m     13\u001b[0m \u001b[38;5;28;01mfor\u001b[39;00m fn \u001b[38;5;129;01min\u001b[39;00m uploaded\u001b[38;5;241m.\u001b[39mkeys():\n",
      "\u001b[0;31mModuleNotFoundError\u001b[0m: No module named 'google'"
     ]
    }
   ],
   "source": [
    "# IF RUNNING ON GOOGLE COLAB\n",
    "# When prompted, upload: \n",
    "#     * iris-measurements.csv \n",
    "#     * iris-species.csv\n",
    "# from your local file system\n",
    "# Data source: https://www.math.wisc.edu/~roch/mmids/\n",
    "# Alternative instructions: https://colab.research.google.com/notebooks/io.ipynb\n",
    "\n",
    "from google.colab import files\n",
    "\n",
    "uploaded = files.upload()\n",
    "\n",
    "for fn in uploaded.keys():\n",
    "    print('User uploaded file \"{name}\" with length {length} bytes'.format(name=fn, length=len(uploaded[fn])))"
   ]
  },
  {
   "cell_type": "markdown",
   "metadata": {
    "slideshow": {
     "slide_type": "slide"
    }
   },
   "source": [
    "We first extract the columns and combine them into a data matrix `X`, then visualize the $2$-dimensional petal data."
   ]
  },
  {
   "cell_type": "code",
   "execution_count": 25,
   "metadata": {
    "slideshow": {
     "slide_type": "fragment"
    }
   },
   "outputs": [],
   "source": [
    "import pandas as pd\n",
    "from sklearn import datasets\n",
    "iris = datasets.load_iris()\n",
    "#df = pd.read_csv('iris-measurements.csv')\n",
    "#df.head()"
   ]
  },
  {
   "cell_type": "code",
   "execution_count": 26,
   "metadata": {
    "slideshow": {
     "slide_type": "fragment"
    }
   },
   "outputs": [
    {
     "data": {
      "image/png": "[encoded data removed]",
      "text/plain": [
       "<Figure size 640x480 with 1 Axes>"
      ]
     },
     "metadata": {},
     "output_type": "display_data"
    }
   ],
   "source": [
    "df = pd.read_csv(\"iris-measurements.csv\")\n",
    "X = df[['PetalLengthCm', 'PetalWidthCm', \n",
    "        'SepalLengthCm', 'SepalWidthCm']].to_numpy()\n",
    "plt.scatter(X[:,0], X[:,1])\n",
    "plt.xlabel('PetalLength')\n",
    "plt.ylabel('PetalWidth')\n",
    "plt.show()"
   ]
  },
  {
   "cell_type": "markdown",
   "metadata": {
    "slideshow": {
     "slide_type": "skip"
    }
   },
   "source": [
    "We run the $k$-means algorithm with $k=2$ clusters. "
   ]
  },
  {
   "cell_type": "code",
   "execution_count": 27,
   "metadata": {
    "slideshow": {
     "slide_type": "slide"
    }
   },
   "outputs": [
    {
     "name": "stdout",
     "output_type": "stream",
     "text": [
      "619.3333916488605\n",
      "156.3092374333162\n",
      "152.53336910043726\n",
      "152.36870647733906\n",
      "152.36870647733906\n",
      "152.36870647733906\n",
      "152.36870647733906\n",
      "152.36870647733906\n",
      "152.36870647733906\n",
      "152.36870647733906\n"
     ]
    },
    {
     "data": {
      "image/png": "[encoded data removed]",
      "text/plain": [
       "<Figure size 640x480 with 1 Axes>"
      ]
     },
     "metadata": {},
     "output_type": "display_data"
    }
   ],
   "source": [
    "assign = mmids_kmeans(X, 2)\n",
    "plt.scatter(X[:,0], X[:,1], c=assign)\n",
    "plt.show()"
   ]
  },
  {
   "cell_type": "markdown",
   "metadata": {
    "slideshow": {
     "slide_type": "slide"
    }
   },
   "source": [
    "This clustering may seem less than perfect. But recall that \n",
    "\n",
    "(1) in this plot we are looking at only two of the four variables while $k$-means uses all of them, \n",
    "\n",
    "(2) we are not guaranteed to find the best solution, \n",
    "\n",
    "(3) our objective function is somewhat arbitrary, and \n",
    "\n",
    "(4) it is not clear what the right choice of $k$ is. In fact, the original dataset provided the correct answer as determined by a [botanist](https://en.wikipedia.org/wiki/Edgar_Anderson). \n",
    "\n",
    "Despite what the figure above may lead us to believe, there are in reality three separate species. So let's try with $k=3$ clusters."
   ]
  },
  {
   "cell_type": "code",
   "execution_count": 28,
   "metadata": {
    "slideshow": {
     "slide_type": "slide"
    }
   },
   "outputs": [
    {
     "name": "stdout",
     "output_type": "stream",
     "text": [
      "527.1586444636011\n",
      "95.5719420067157\n",
      "87.00356562736205\n",
      "84.80172984452898\n",
      "84.10217888865151\n",
      "83.13638186876976\n",
      "81.83900206772623\n",
      "80.89577600000001\n",
      "79.96297983461305\n",
      "79.43376414532675\n",
      "79.01070972222223\n",
      "78.94506582597731\n",
      "78.94506582597731\n",
      "78.94506582597731\n",
      "78.94506582597731\n",
      "78.94506582597731\n",
      "78.94506582597731\n",
      "78.94506582597731\n",
      "78.94506582597731\n",
      "78.94506582597731\n"
     ]
    }
   ],
   "source": [
    "assign = mmids_kmeans(X, 3, maxiter=20)"
   ]
  },
  {
   "cell_type": "code",
   "execution_count": 29,
   "metadata": {
    "slideshow": {
     "slide_type": "slide"
    }
   },
   "outputs": [
    {
     "data": {
      "image/png": "[encoded data removed]",
      "text/plain": [
       "<Figure size 640x480 with 1 Axes>"
      ]
     },
     "metadata": {},
     "output_type": "display_data"
    }
   ],
   "source": [
    "plt.scatter(X[:,0], X[:,1], c=assign)\n",
    "plt.show()"
   ]
  },
  {
   "cell_type": "markdown",
   "metadata": {
    "slideshow": {
     "slide_type": "slide"
    }
   },
   "source": [
    "Let's load the truth and compare."
   ]
  },
  {
   "cell_type": "code",
   "execution_count": 30,
   "metadata": {
    "slideshow": {
     "slide_type": "fragment"
    }
   },
   "outputs": [
    {
     "data": {
      "text/html": [
       "<div>\n",
       "<style scoped>\n",
       "    .dataframe tbody tr th:only-of-type {\n",
       "        vertical-align: middle;\n",
       "    }\n",
       "\n",
       "    .dataframe tbody tr th {\n",
       "        vertical-align: top;\n",
       "    }\n",
       "\n",
       "    .dataframe thead th {\n",
       "        text-align: right;\n",
       "    }\n",
       "</style>\n",
       "<table border=\"1\" class=\"dataframe\">\n",
       "  <thead>\n",
       "    <tr style=\"text-align: right;\">\n",
       "      <th></th>\n",
       "      <th>Id</th>\n",
       "      <th>Species</th>\n",
       "    </tr>\n",
       "  </thead>\n",
       "  <tbody>\n",
       "    <tr>\n",
       "      <th>0</th>\n",
       "      <td>1</td>\n",
       "      <td>Iris-setosa</td>\n",
       "    </tr>\n",
       "    <tr>\n",
       "      <th>1</th>\n",
       "      <td>2</td>\n",
       "      <td>Iris-setosa</td>\n",
       "    </tr>\n",
       "    <tr>\n",
       "      <th>2</th>\n",
       "      <td>3</td>\n",
       "      <td>Iris-setosa</td>\n",
       "    </tr>\n",
       "    <tr>\n",
       "      <th>3</th>\n",
       "      <td>4</td>\n",
       "      <td>Iris-setosa</td>\n",
       "    </tr>\n",
       "    <tr>\n",
       "      <th>4</th>\n",
       "      <td>5</td>\n",
       "      <td>Iris-setosa</td>\n",
       "    </tr>\n",
       "  </tbody>\n",
       "</table>\n",
       "</div>"
      ],
      "text/plain": [
       "   Id      Species\n",
       "0   1  Iris-setosa\n",
       "1   2  Iris-setosa\n",
       "2   3  Iris-setosa\n",
       "3   4  Iris-setosa\n",
       "4   5  Iris-setosa"
      ]
     },
     "execution_count": 30,
     "metadata": {},
     "output_type": "execute_result"
    }
   ],
   "source": [
    "df_truth = pd.read_csv(\"iris-species.csv\")\n",
    "df_truth.head()"
   ]
  },
  {
   "cell_type": "markdown",
   "metadata": {
    "slideshow": {
     "slide_type": "fragment"
    }
   },
   "source": [
    "The species are:"
   ]
  },
  {
   "cell_type": "code",
   "execution_count": 31,
   "metadata": {
    "slideshow": {
     "slide_type": "fragment"
    }
   },
   "outputs": [
    {
     "data": {
      "text/plain": [
       "array(['Iris-setosa', 'Iris-versicolor', 'Iris-virginica'], dtype=object)"
      ]
     },
     "execution_count": 31,
     "metadata": {},
     "output_type": "execute_result"
    }
   ],
   "source": [
    "species = df_truth['Species']\n",
    "species.unique()"
   ]
  },
  {
   "cell_type": "markdown",
   "metadata": {
    "slideshow": {
     "slide_type": "slide"
    }
   },
   "source": [
    "To plot the outcome, we color the species blue-green-red using a [dictionary](https://docs.python.org/3/tutorial/datastructures.html#dictionaries)."
   ]
  },
  {
   "cell_type": "code",
   "execution_count": 32,
   "metadata": {
    "slideshow": {
     "slide_type": "fragment"
    }
   },
   "outputs": [
    {
     "data": {
      "image/png": "[encoded data removed]",
      "text/plain": [
       "<Figure size 640x480 with 2 Axes>"
      ]
     },
     "metadata": {},
     "output_type": "display_data"
    }
   ],
   "source": [
    "species2color = {'Iris-setosa': 'b', 'Iris-versicolor': 'g', 'Iris-virginica': 'r'}\n",
    "truth = species.replace(species2color)\n",
    "f, (ax1, ax2) = plt.subplots(1, 2, sharex=True, sharey=True)\n",
    "ax1.scatter(X[:,0], X[:,1], c=truth)\n",
    "ax1.set_title('truth')\n",
    "ax2.scatter(X[:,0], X[:,1], c=assign)\n",
    "ax2.set_title('kmeans')\n",
    "plt.show()"
   ]
  },
  {
   "cell_type": "markdown",
   "metadata": {
    "slideshow": {
     "slide_type": "slide"
    }
   },
   "source": [
    "Determining the appropriate number of clusters is not a straighforward problem. To quote [Wikipedia](https://en.wikipedia.org/wiki/Determining_the_number_of_clusters_in_a_data_set):\n",
    "\n",
    "> The correct choice of $k$ is often ambiguous, with interpretations depending on the shape and scale of the distribution of points in a data set and the desired clustering resolution of the user. In addition, increasing $k$ without penalty will always reduce the amount of error in the resulting clustering, to the extreme case of zero error if each data point is considered its own cluster (i.e., when $k$ equals the number of data points, $n$). Intuitively then, the optimal choice of $k$ will strike a balance between maximum compression of the data using a single cluster, and maximum accuracy by assigning each data point to its own cluster. If an appropriate value of $k$ is not apparent from prior knowledge of the properties of the data set, it must be chosen somehow. There are several categories of methods for making this decision.\n",
    "\n",
    "\n",
    "In practice, [several heuristic approaches](https://en.wikipedia.org/wiki/Determining_the_number_of_clusters_in_a_data_set) are in use. Other approaches to clustering, e.g. [DBSCAN](https://en.wikipedia.org/wiki/DBSCAN) and [hierarchical clustering](https://en.wikipedia.org/wiki/Hierarchical_clustering), do not require a number of clusters as input. "
   ]
  },
  {
   "cell_type": "markdown",
   "metadata": {
    "slideshow": {
     "slide_type": "skip"
    }
   },
   "source": [
    "$\\lhd$"
   ]
  },
  {
   "cell_type": "markdown",
   "metadata": {
    "slideshow": {
     "slide_type": "slide"
    }
   },
   "source": [
    "### 1.3.4 Matrix form of $k$-means clustering"
   ]
  },
  {
   "cell_type": "markdown",
   "metadata": {
    "slideshow": {
     "slide_type": "skip"
    }
   },
   "source": [
    "In this section, we show that the $k$-means clustering objective can be written in matrix form. We start with some notation and definitions that will be useful throughout the course."
   ]
  },
  {
   "cell_type": "markdown",
   "metadata": {
    "slideshow": {
     "slide_type": "slide"
    }
   },
   "source": [
    "As we indicated before, for a collection of $n$ data vectors $\\mathbf{x}_1, \\ldots, \\mathbf{x}_n$ in $\\mathbb{R}^d$, it is often convenient to stack them up into a matrix\n",
    "\n",
    "$$\n",
    "X =\n",
    "\\begin{bmatrix}\n",
    "\\mathbf{x}_1^T \\\\\n",
    "\\mathbf{x}_2^T \\\\\n",
    "\\vdots \\\\\n",
    "\\mathbf{x}_n^T \\\\\n",
    "\\end{bmatrix}\n",
    "=\n",
    "\\begin{bmatrix}\n",
    "x_{11} & x_{12} & \\cdots & x_{1d} \\\\\n",
    "x_{21} & x_{22} & \\cdots & x_{2d} \\\\\n",
    "\\vdots & \\vdots & \\ddots & \\vdots \\\\\n",
    "x_{n1} & x_{n2} & \\cdots & x_{nd} \\\\\n",
    "\\end{bmatrix}.\n",
    "$$"
   ]
  },
  {
   "cell_type": "markdown",
   "metadata": {
    "slideshow": {
     "slide_type": "fragment"
    }
   },
   "source": [
    "We can do the same with cluster representatives. Given $\\boldsymbol{\\mu}_1,\\ldots,\\boldsymbol{\\mu}_k$ also in $\\mathbb{R}^d$, we form the matrix \n",
    "\n",
    "$$\n",
    "U =\n",
    "\\begin{bmatrix}\n",
    "\\boldsymbol{\\mu}_1^T \\\\\n",
    "\\boldsymbol{\\mu}_2^T \\\\\n",
    "\\vdots \\\\\n",
    "\\boldsymbol{\\mu}_k^T \\\\\n",
    "\\end{bmatrix}\n",
    "=\n",
    "\\begin{bmatrix}\n",
    "\\mu_{11} & \\mu_{12} & \\cdots & \\mu_{1d} \\\\\n",
    "\\mu_{21} & \\mu_{22} & \\cdots & \\mu_{2d} \\\\\n",
    "\\vdots & \\vdots & \\ddots & \\vdots \\\\\n",
    "\\mu_{k1} & \\mu_{k2} & \\cdots & \\mu_{kd} \\\\\n",
    "\\end{bmatrix}.\n",
    "$$"
   ]
  },
  {
   "cell_type": "markdown",
   "metadata": {
    "slideshow": {
     "slide_type": "slide"
    }
   },
   "source": [
    "Perhaps less obviously, cluster assignments can also be encoded in matrix form. Recall that, given a partition $C_1,\\ldots,C_k$ of $[n]$, we define $c(j) = i$ if $j \\in C_i$. For $j=1,\\ldots,n$ and $\\ell=1,\\ldots,k$, set $Z_{j\\ell} = 1$ if $c(j) = \\ell$ and $0$ otherwise, and let $Z$ be the $n \\times k$ matrix with entries $Z = [Z_{j\\ell}]_{j,\\ell}$. That is, row $j$ has exactly one entry with value $1$, corresponding to the assigned cluster $c(j)$ of data point $\\mathbf{x}_j$, and all other entries $0$.\n",
    "\n",
    "$$\n",
    "Z = \\begin{bmatrix}\n",
    "        \\mathbf{1}(j \\in C_{\\ell})\n",
    "\\end{bmatrix}_{1\\le j\\le n,\\, 1\\le \\ell \\le k}\n",
    "$$\n",
    "\n"
   ]
  },
  {
   "cell_type": "markdown",
   "metadata": {
    "slideshow": {
     "slide_type": "fragment"
    }
   },
   "source": [
    "With this notation, the representative of the cluster assigned to data point $\\mathbf{x}_j$ is obtained through a matrix product\n",
    "\n",
    "$$\n",
    "\\boldsymbol{\\mu}_{c(j)}^T \n",
    "= \\sum_{\\ell = 1}^k Z_{j\\ell} \\boldsymbol{\\mu}_{\\ell}^T\n",
    "= \\sum_{\\ell = 1}^k Z_{j\\ell} U_{\\ell,\\cdot}\n",
    "= \\left(Z U\\right)_{j,\\cdot}\n",
    "$$\n",
    "\n",
    "where we used that the $j$-th row of a matrix product is a linear combination of the rows of the second matrix, where the coefficients are the entries on the $j$-th row of the first one."
   ]
  },
  {
   "cell_type": "markdown",
   "metadata": {
    "slideshow": {
     "slide_type": "slide"
    }
   },
   "source": [
    "**Example (continued):** Continuing with our previous example, the clusters\n",
    "$\n",
    "C_1 = \\{1, 4, 6, 8\\}, C_2 = \\{2, 3, 7\\}, C_3 = \\{5\\}\n",
    "$\n",
    "are encoded as the matrix\n",
    "\n",
    "$$\n",
    "Z \n",
    "= \\begin{bmatrix}\n",
    "1 & 0 & 0\\\\\n",
    "0 & 1 & 0\\\\\n",
    "0 & 1 & 0\\\\\n",
    "1 & 0 & 0\\\\\n",
    "0 & 0 & 1\\\\\n",
    "1 & 0 & 0\\\\\n",
    "0 & 1 & 0\\\\\n",
    "1 & 0 & 0\n",
    "\\end{bmatrix}.\n",
    "$$"
   ]
  },
  {
   "cell_type": "markdown",
   "metadata": {
    "slideshow": {
     "slide_type": "fragment"
    }
   },
   "source": [
    "Suppose again that the representatives are \n",
    "\n",
    "$$\n",
    "\\boldsymbol{\\mu}_1 = \\begin{pmatrix}-2\\\\1\\end{pmatrix},\n",
    "\\boldsymbol{\\mu}_2 = \\begin{pmatrix}2\\\\-1\\end{pmatrix},\n",
    "\\boldsymbol{\\mu}_3 = \\begin{pmatrix}-10\\\\10\\end{pmatrix}.\n",
    "$$\n",
    "\n",
    "The corresponding matrix $U$ is then\n",
    "\n",
    "$$\n",
    "U \n",
    "= \n",
    "\\begin{bmatrix}\n",
    "-2 & 1\\\\\n",
    "2 & -1\\\\\n",
    "-10 & 10\n",
    "\\end{bmatrix}.\n",
    "$$"
   ]
  },
  {
   "cell_type": "markdown",
   "metadata": {
    "slideshow": {
     "slide_type": "slide"
    }
   },
   "source": [
    "Hence multiplying $Z$ and $U$ produces a matrix where each row is the representative of the assigned cluster of the corresponding data point\n",
    "\n",
    "$$\n",
    "ZU \n",
    "= \n",
    "\\begin{bmatrix}\n",
    "1 & 0 & 0\\\\\n",
    "0 & 1 & 0\\\\\n",
    "0 & 1 & 0\\\\\n",
    "1 & 0 & 0\\\\\n",
    "0 & 0 & 1\\\\\n",
    "1 & 0 & 0\\\\\n",
    "0 & 1 & 0\\\\\n",
    "1 & 0 & 0\n",
    "\\end{bmatrix}\n",
    "\\,\n",
    "\\begin{bmatrix}\n",
    "-2 & 1\\\\\n",
    "2 & -1\\\\\n",
    "-10 & 10\n",
    "\\end{bmatrix}\n",
    "= \n",
    "\\begin{bmatrix}\n",
    "-2 & 1\\\\\n",
    "2 & -1\\\\\n",
    "2 & -1\\\\\n",
    "-2 & 1\\\\\n",
    "-10 & 10\\\\\n",
    "-2 & 1\\\\\n",
    "2 & -1\\\\\n",
    "-2 & 1\n",
    "\\end{bmatrix}.\n",
    "$$\n",
    "\n",
    "$\\lhd$"
   ]
  },
  {
   "cell_type": "markdown",
   "metadata": {
    "slideshow": {
     "slide_type": "slide"
    }
   },
   "source": [
    "Recall that the Frobenius norm of an $n \\times m$ matrix $A \\in \\mathbb{R}^{n \\times m}$ is defined as\n",
    "\n",
    "$$\n",
    "\\|A\\|_F\n",
    "= \\sqrt{\\sum_{i=1}^n \\sum_{j=1}^m A_{ij}^2}.\n",
    "$$\n",
    "\n",
    "Using the row notation, it can be written as the sum of the squared Euclidean norms of the rows\n",
    " \n",
    "$$\n",
    "\\|A\\|_F^2 = \\sum_{i=1}^n \\|A_{i,\\cdot}\\|_2^2.\n",
    "$$\n",
    "\n",
    "For two matrices $A, B \\in \\mathbb{R}^{n \\times m}$, the Frobenius norm of their difference $\\|A - B\\|_F$ can be interpreted as a distance between $A$ and $B$, that is, a measure of how dissimilar they are."
   ]
  },
  {
   "cell_type": "markdown",
   "metadata": {
    "slideshow": {
     "slide_type": "slide"
    }
   },
   "source": [
    "Finally, we return to the $k$-means objective. Using the notation introduced in this section and the equivalent formula for the objective $G$ derived the proof of the *Optimal Clustering Lemma*, we note that\n",
    "\n",
    "$$\n",
    "\\begin{align*}\n",
    "G(C_1,\\ldots,C_k; \\boldsymbol{\\mu}_1, \\ldots, \\boldsymbol{\\mu}_k)\n",
    "&= \\sum_{i=1}^n \\|\\mathbf{x}_i - \\boldsymbol{\\mu}_{c(i)}\\|^2\\\\\n",
    "&= \\sum_{i=1}^n \\sum_{\\ell=1}^d \\left(x_{i\\ell} - (Z U)_{i\\ell}\\right)^2\\\\\n",
    "&= \\|X - Z U \\|^2_F,\n",
    "\\end{align*}\n",
    "$$\n",
    "\n",
    "where we used the definition of the Frobenius norm."
   ]
  },
  {
   "cell_type": "markdown",
   "metadata": {
    "slideshow": {
     "slide_type": "fragment"
    }
   },
   "source": [
    "In other words, minimizing the $k$-means objective is equivalent to finding a matrix factorization of the form $ZU$ that is a good fit to the data matrix $X$ in Frobenius norm. This formulation expresses in a more compact form the idea of representing $X$ as a combination of a small number of representatives. Matrix factorization will come back repeatedly in this course. "
   ]
  },
  {
   "cell_type": "markdown",
   "metadata": {},
   "source": [
    "A typical matrix factorization problem for a matrix $X\\in \\mathbb{R}^{n\\times d}$ into product of matrices $A\\in \\mathbb{R}^{n\\times r}$ and $B\\in \\mathbb{R}^{r\\times d}$ is defined as the following optimization problem\n",
    "\\begin{align}\\label{eq:MF}\n",
    "\\min_{A\\in \\mathcal{A},\\, B\\in \\mathcal{B}} \\lVert X- AB \\rVert_{F}^{2},\n",
    "\\end{align}\n",
    "where $\\mathcal{A}\\subseteq \\mathbb{R}^{n\\times d}$ and $\\mathcal{B}\\subseteq \\mathbb{R}^{r\\times d}$ denote sets of admissible matrices that satisfy desired conditions.\n",
    "\n",
    "For instance, the $k$-means optimization problem for a data matrix $X\\in \\mathbb{R}^{n\\times d}$ can be written as \n",
    "$$\n",
    "\\min_{Z, U} \\|X - Z U \\|^2_F,\n",
    "$$\n",
    "where $Z\\in \\{0,1\\}^{n\\times k}$ is a cluster assignment matrix (i.e., each row is the indicator vector (single 1 and all zeros) of cluster assignment) and $U\\in \\mathbb{R}^{k\\times d}$ is the matrix of cluster representatives.\n",
    "\n",
    "Usually, matrix factorization problems are hard to solve exactly (nonconvex and constrained optimization problems), so alternating minimization techniques are often used to find approximate solutions. In fact, the $k$-means clustering algorithm we studied is in fact the following alternating minimization algorithm for the corresponding matrix factorization problem:\n",
    "$$\n",
    "\\begin{cases}\n",
    "Z_{n}\\leftarrow \\min_{Z\\in (n\\times k) \\,\\, \\text{cluster assignment matrices}} \\,\\, \\lVert X - Z U_{n-1} \\rVert_{F}^{2}\\\\\n",
    "U_{n}\\leftarrow \\min_{U\\in \\mathbb{R}^{k\\times d}} \\lVert X - Z_{n} U \\rVert_{F}^{2}.\n",
    "\\end{cases}\n",
    "$$\n",
    "We have shown that the first sub-problem for finding $Z_{n}$ is solved by greedy assignment -- asign each point to the cluster of nearest representative (rows of $U_{n-1}$); The second sub-problem for finding $U_{n}$ is solved by taking centroids of each clusters (i.e., the $i$th row of $U_{n}=$mean of the points assined to cluster $i$ by $Z_{n}$). "
   ]
  },
  {
   "cell_type": "code",
   "execution_count": null,
   "metadata": {},
   "outputs": [],
   "source": []
  }
 ],
 "metadata": {
  "celltoolbar": "Slideshow",
  "kernelspec": {
   "display_name": "hlyuenv",
   "language": "python",
   "name": "hlyuenv"
  },
  "language_info": {
   "codemirror_mode": {
    "name": "ipython",
    "version": 3
   },
   "file_extension": ".py",
   "mimetype": "text/x-python",
   "name": "python",
   "nbconvert_exporter": "python",
   "pygments_lexer": "ipython3",
   "version": "3.9.13"
  }
 },
 "nbformat": 4,
 "nbformat_minor": 2
}
