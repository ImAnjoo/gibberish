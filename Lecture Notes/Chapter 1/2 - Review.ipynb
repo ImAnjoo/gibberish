{
 "cells": [
  {
   "cell_type": "markdown",
   "metadata": {
    "slideshow": {
     "slide_type": "slide"
    }
   },
   "source": [
    "***\n",
    "*Course:* [Math 535](https://people.math.wisc.edu/~roch/mmids/) - Mathematical Methods in Data Science (MMiDS)  \n",
    "*Author:* [Sebastien Roch](https://people.math.wisc.edu/~roch/), Department of Mathematics, University of Wisconsin-Madison  \n",
    "*Updated:* Jan. 25, 2023\n",
    "*Copyright:* &copy; 2022 Sebastien Roch\n",
    "***\n",
    "Updated by Hanbaek Lyu \n",
    "\n",
    "# Chapter 1 - Introduction and review\n",
    "\n",
    "## 1.2 Review++"
   ]
  },
  {
   "cell_type": "markdown",
   "metadata": {
    "slideshow": {
     "slide_type": "skip"
    }
   },
   "source": [
    "We first review a few basic mathematical concepts. In this chapter, we focus on vector and matrix algebra, some basic calculus and optimization, as well as elementary probability concepts. Further mathematical concepts will be reviewed in the next chapters. Along the way, we also introduce Python, especially Numpy. "
   ]
  },
  {
   "cell_type": "markdown",
   "metadata": {
    "slideshow": {
     "slide_type": "slide"
    }
   },
   "source": [
    "### 1.2.1 Vectors and matrices"
   ]
  },
  {
   "cell_type": "markdown",
   "metadata": {
    "slideshow": {
     "slide_type": "slide"
    }
   },
   "source": [
    "**Vectors and norms** For a vector \n",
    "\n",
    "$$\n",
    "\\mathbf{x} \n",
    "= \n",
    "\\begin{bmatrix}\n",
    "x_1 \\\\\n",
    "x_2 \\\\\n",
    "\\vdots \\\\\n",
    "x_d\n",
    "\\end{bmatrix}\n",
    "\\in \\mathbb{R}^d\n",
    "$$\n",
    "\n",
    "the Euclidean norm of $\\mathbf{x}$ is defined as\n",
    "\n",
    "$$\n",
    "\\|\\mathbf{x}\\|_2 \n",
    "= \n",
    "\\sqrt{\n",
    "\\sum_{i=1}^d x_i^2\n",
    "} \n",
    "= \n",
    "\\sqrt{\\langle \\mathbf{x}, \\mathbf{x}\\rangle}\n",
    "$$\n",
    "\n",
    "where\n",
    "\n",
    "$$\n",
    "\\langle \\mathbf{u}, \\mathbf{v} \\rangle = \\sum_{i=1}^d u_i v_i\n",
    "$$ \n",
    "\n",
    "is the [inner product](https://en.wikipedia.org/wiki/Inner_product_space) of $\\mathbf{u}$ and $\\mathbf{v}$.\n",
    "This is also known as the $\\ell^2$-norm. "
   ]
  },
  {
   "cell_type": "markdown",
   "metadata": {
    "slideshow": {
     "slide_type": "skip"
    }
   },
   "source": [
    "The triangle inequality for the $\\ell^2$-norm [follows](https://en.wikipedia.org/wiki/Cauchy–Schwarz_inequality#Analysis) from the [Cauchy–Schwarz inequality](https://en.wikipedia.org/wiki/Cauchy–Schwarz_inequality), which is useful in proving many facts.\n",
    "\n",
    "***\n",
    "**Theorem (Cauchy–Schwarz):** For all $\\mathbf{u}, \\mathbf{v} \\in \\mathbb{R}^d$\n",
    "\n",
    "$$\n",
    "|\\langle \\mathbf{u}, \\mathbf{v} \\rangle| \n",
    "\\leq \\|\\mathbf{u}\\|_2 \\|\\mathbf{v}\\|_2.\n",
    "$$\n",
    "***"
   ]
  },
  {
   "cell_type": "markdown",
   "metadata": {
    "slideshow": {
     "slide_type": "slide"
    }
   },
   "source": [
    "Given a collection of vectors $\\mathbf{u}_1,\\ldots,\\mathbf{u}_k \\in \\mathbb{R}^d$ and real numbers $\\alpha_1,\\ldots,\\alpha_k \\in \\mathbb{R}$, the linear combination of $\\mathbf{u}_\\ell$'s with coefficients $\\alpha_\\ell$'s is the vector\n",
    "\n",
    "$$\n",
    "\\mathbf{z} \n",
    "= \\sum_{\\ell=1}^k \\alpha_\\ell \\mathbf{u}_\\ell,\n",
    "$$\n",
    "\n",
    "whose entries are\n",
    "\n",
    "$$\n",
    "z_i\n",
    "= \\sum_{\\ell=1}^k \\alpha_\\ell (\\mathbf{u}_\\ell)_i, \\quad i=1,\\ldots,d.\n",
    "$$"
   ]
  },
  {
   "cell_type": "markdown",
   "metadata": {
    "slideshow": {
     "slide_type": "slide"
    }
   },
   "source": [
    "The [Euclidean distance](https://en.wikipedia.org/wiki/Euclidean_distance) between two vectors $\\mathbf{u}$ and $\\mathbf{v}$ in $\\mathbb{R}^d$ is the $2$-norm of their difference\n",
    "\n",
    "$$\n",
    "d(\\mathbf{u},\\mathbf{v})\n",
    "= \\|\\mathbf{u} - \\mathbf{v}\\|_2.\n",
    "$$\n",
    "\n",
    "Throughout we use the notation $\\|\\mathbf{x}\\| = \\|\\mathbf{x}\\|_2$ to indicate the $2$-norm of $\\mathbf{x}$ unless specified otherwise."
   ]
  },
  {
   "cell_type": "markdown",
   "metadata": {
    "slideshow": {
     "slide_type": "slide"
    }
   },
   "source": [
    "More generally, for $p \\geq 1$, the [$\\ell^p$-norm](https://en.wikipedia.org/wiki/Lp_space#The_p-norm_in_countably_infinite_dimensions_and_ℓ_p_spaces) of $\\mathbf{x}$ is given by\n",
    "\n",
    "$$\n",
    "\\|\\mathbf{x}\\|_p \n",
    "= \n",
    "\\left(\n",
    "\\sum_{i=1}^d |x_i|^p\n",
    "\\right)^{1/p}.\n",
    "$$\n",
    "\n",
    "[Here](https://commons.wikimedia.org/wiki/File:Lp_space_animation.gif#/media/File:Lp_space_animation.gif) is a nice visualization of the unit ball, that is, the set $\\{\\mathbf{x}:\\|x\\|_p \\leq 1\\}$, under varying $p$. "
   ]
  },
  {
   "cell_type": "markdown",
   "metadata": {
    "slideshow": {
     "slide_type": "fragment"
    }
   },
   "source": [
    "Finally the $\\ell^\\infty$-norm, is defined as \n",
    "\n",
    "\n",
    "$$\n",
    "\\|\\mathbf{x}\\|_\\infty = \\max_{i=1,\\ldots,d}|x_i|.\n",
    "$$"
   ]
  },
  {
   "cell_type": "markdown",
   "metadata": {
    "slideshow": {
     "slide_type": "slide"
    }
   },
   "source": [
    "There exist other norms. Formally: \n",
    "\n",
    "**Definition (Norm):** A norm is a function $\\ell$ from $\\mathbb{R}^d$ to $\\mathbb{R}_+$ that satisfies for all $a \\in \\mathbb{R}$,\n",
    "$\\mathbf{u}, \\mathbf{v} \\in \\mathbb{R}^d$\n",
    "\n",
    "- *(Homogeneity):* $\\ell(a \\mathbf{u}) = |a| \\ell(\\mathbf{u})$\n",
    "- *(Triangle inequality):* $\\ell(\\mathbf{u}+\\mathbf{v}) \\leq \\ell(\\mathbf{u}) + \\ell(\\mathbf{v})$\n",
    "- *(Point-separating):* $\\ell(\\mathbf{u}) = 0$ implies $\\mathbf{u} =0$.\n",
    "\n",
    "$\\lhd$"
   ]
  },
  {
   "cell_type": "markdown",
   "metadata": {
    "slideshow": {
     "slide_type": "slide"
    }
   },
   "source": [
    "**NUMERICAL CORNER:** In Numpy, a vector is defined as a 1d array."
   ]
  },
  {
   "cell_type": "code",
   "execution_count": 1,
   "metadata": {
    "slideshow": {
     "slide_type": "fragment"
    }
   },
   "outputs": [],
   "source": [
    "# Python 3\n",
    "import numpy as np"
   ]
  },
  {
   "cell_type": "code",
   "execution_count": 2,
   "metadata": {
    "slideshow": {
     "slide_type": "fragment"
    }
   },
   "outputs": [
    {
     "name": "stdout",
     "output_type": "stream",
     "text": [
      "[1. 3. 5. 7.]\n"
     ]
    }
   ],
   "source": [
    "u = np.array([1., 3., 5. ,7.])\n",
    "print(u)"
   ]
  },
  {
   "cell_type": "markdown",
   "metadata": {
    "slideshow": {
     "slide_type": "slide"
    }
   },
   "source": [
    "To obtain the norm of a vector, we can use the function [`linalg.norm`](https://numpy.org/doc/stable/reference/generated/numpy.linalg.norm.html) (which requires the `numpy.linalg` package):"
   ]
  },
  {
   "cell_type": "code",
   "execution_count": 3,
   "metadata": {
    "slideshow": {
     "slide_type": "fragment"
    }
   },
   "outputs": [],
   "source": [
    "from numpy import linalg as LA"
   ]
  },
  {
   "cell_type": "code",
   "execution_count": 4,
   "metadata": {
    "slideshow": {
     "slide_type": "fragment"
    }
   },
   "outputs": [
    {
     "data": {
      "text/plain": [
       "9.16515138991168"
      ]
     },
     "execution_count": 4,
     "metadata": {},
     "output_type": "execute_result"
    }
   ],
   "source": [
    "LA.norm(u)"
   ]
  },
  {
   "cell_type": "markdown",
   "metadata": {
    "slideshow": {
     "slide_type": "fragment"
    }
   },
   "source": [
    "which we check next \"by hand\""
   ]
  },
  {
   "cell_type": "code",
   "execution_count": 5,
   "metadata": {
    "slideshow": {
     "slide_type": "fragment"
    }
   },
   "outputs": [
    {
     "data": {
      "text/plain": [
       "9.16515138991168"
      ]
     },
     "execution_count": 5,
     "metadata": {},
     "output_type": "execute_result"
    }
   ],
   "source": [
    "np.sqrt(np.sum(u ** 2))"
   ]
  },
  {
   "cell_type": "markdown",
   "metadata": {
    "slideshow": {
     "slide_type": "fragment"
    }
   },
   "source": [
    "In Numpy, [`**`](https://numpy.org/doc/stable/reference/generated/numpy.power.html) indicates element-wise exponentiation."
   ]
  },
  {
   "cell_type": "markdown",
   "metadata": {
    "slideshow": {
     "slide_type": "skip"
    }
   },
   "source": [
    "$\\lhd$"
   ]
  },
  {
   "cell_type": "markdown",
   "metadata": {
    "slideshow": {
     "slide_type": "slide"
    }
   },
   "source": [
    "**Matrices** For an $n \\times m$ matrix $A \\in \\mathbb{R}^{n \\times m}$ with real entries, we denote by $A_{ij}$ its entry in row $i$ and column $j$. We also refer to a matrix as the collection of all of its entries as follows \n",
    "\n",
    "$$\n",
    "A = (A_{ij})_{i\\in [n],j \\in [m]}.\n",
    "$$\n",
    "\n",
    "We occasionally simplify the notation to $(A_{ij})_{i,j}$ when the range of the indices is clear from context. We use the notation \n",
    "\n",
    "$$\n",
    "A_{i,\\cdot} = (A_{i1} \\cdots A_{im}),\n",
    "$$ \n",
    "\n",
    "to indicate the $i$-th row of $A$ - as a row vector, i.e., a matrix with a single row - and similarly \n",
    "\n",
    "$$\n",
    "A_{\\cdot,j} = \\begin{pmatrix}\n",
    "A_{1j}\\\\\n",
    "\\vdots\\\\\n",
    "A_{nj}\n",
    "\\end{pmatrix},\n",
    "$$ \n",
    "\n",
    "the $j$-th column of $A$ - as a column vector, i.e., a matrix with a single column. "
   ]
  },
  {
   "cell_type": "markdown",
   "metadata": {
    "slideshow": {
     "slide_type": "slide"
    }
   },
   "source": [
    "**Example:** Suppose\n",
    "\n",
    "$$\n",
    "A \n",
    "= \\begin{bmatrix}\n",
    "2 & 5\\\\\n",
    "3 & 6\\\\\n",
    "1 & 1\n",
    "\\end{bmatrix}.\n",
    "$$\n",
    "\n",
    "Then the second row is\n",
    "\n",
    "$$\n",
    "A_{2,\\cdot} = \\begin{bmatrix}\n",
    "3 & 6\n",
    "\\end{bmatrix},\n",
    "$$\n",
    "\n",
    "and the second column is\n",
    "\n",
    "$$\n",
    "A_{\\cdot,2} \n",
    "= \\begin{bmatrix}\n",
    "5\\\\\n",
    "6\\\\\n",
    "1\n",
    "\\end{bmatrix}.\n",
    "$$\n",
    "\n",
    "$\\lhd$"
   ]
  },
  {
   "cell_type": "markdown",
   "metadata": {
    "slideshow": {
     "slide_type": "slide"
    }
   },
   "source": [
    "Recall that the [transpose](https://en.wikipedia.org/wiki/Transpose) $A^T$ of a matrix $A \\in \\mathbb{R}^{n\\times m}$ is defined as the matrix in $\\mathbb{R}^{m\\times n}$ that switches the row and column indices of $A$, that is, its entries are\n",
    "\n",
    "$$\n",
    "[A^T]_{ij} = A_{ji},\\quad i=1,\\ldots,m, j=1,\\ldots,n.\n",
    "$$\n",
    "\n",
    "Visually:\n",
    "\n",
    "![transpose](https://upload.wikimedia.org/wikipedia/commons/e/e4/Matrix_transpose.gif)\n",
    "\n",
    "([Source](https://commons.wikimedia.org/wiki/File:Matrix_transpose.gif))"
   ]
  },
  {
   "cell_type": "markdown",
   "metadata": {
    "slideshow": {
     "slide_type": "slide"
    }
   },
   "source": [
    "The transpose in particular can be used to turn a column vector into a row vector and vice versa. That is, if $\\mathbf{x} \\in \\mathbb{R}^n$ is a column vector\n",
    "\n",
    "$$\n",
    "\\mathbf{b} \n",
    "= \\begin{bmatrix}\n",
    "b_1\\\\\n",
    "b_2\\\\\n",
    "\\vdots\\\\\n",
    "b_n\n",
    "\\end{bmatrix},\n",
    "$$\n",
    "\n",
    "then $\\mathbf{b}^T$ is the corresponding row vector\n",
    "\n",
    "$$\n",
    "\\mathbf{b}^T \n",
    "= \\begin{bmatrix}\n",
    "b_1 &\n",
    "b_2 &\n",
    "\\cdots &\n",
    "b_n\n",
    "\\end{bmatrix}.\n",
    "$$\n",
    "\n",
    "For instance, $\\sqrt{\\mathbf{b}^T \\mathbf{b}}$ is the Euclidean norm of $\\mathbf{b}$."
   ]
  },
  {
   "cell_type": "markdown",
   "metadata": {
    "slideshow": {
     "slide_type": "slide"
    }
   },
   "source": [
    "**NUMERICAL CORNER:** We will often work with collections of $n$ vectors $\\mathbf{x}_1, \\ldots, \\mathbf{x}_n$ in $\\mathbb{R}^d$ and it will be convenient to stack them up into a matrix\n",
    "\n",
    "$$\n",
    "X =\n",
    "\\begin{bmatrix}\n",
    "\\mathbf{x}_1^T \\\\\n",
    "\\mathbf{x}_2^T \\\\\n",
    "\\vdots \\\\\n",
    "\\mathbf{x}_n^T \\\\\n",
    "\\end{bmatrix}\n",
    "=\n",
    "\\begin{bmatrix}\n",
    "x_{11} & x_{12} & \\cdots & x_{1d} \\\\\n",
    "x_{21} & x_{22} & \\cdots & x_{2d} \\\\\n",
    "\\vdots & \\vdots & \\ddots & \\vdots \\\\\n",
    "x_{n1} & x_{n2} & \\cdots & x_{nd} \\\\\n",
    "\\end{bmatrix}.\n",
    "$$"
   ]
  },
  {
   "cell_type": "markdown",
   "metadata": {
    "slideshow": {
     "slide_type": "slide"
    }
   },
   "source": [
    "To create a matrix out of two vectors, we use the function [`numpy.stack`](https://numpy.org/doc/stable/reference/generated/numpy.stack.html)."
   ]
  },
  {
   "cell_type": "code",
   "execution_count": 6,
   "metadata": {
    "slideshow": {
     "slide_type": "fragment"
    }
   },
   "outputs": [
    {
     "name": "stdout",
     "output_type": "stream",
     "text": [
      "[[1. 3. 5. 7.]\n",
      " [2. 4. 6. 8.]]\n"
     ]
    }
   ],
   "source": [
    "u = np.array([1., 3., 5., 7.])\n",
    "v = np.array([2., 4., 6., 8.])\n",
    "X = np.stack((u,v),axis=0)\n",
    "print(X)"
   ]
  },
  {
   "cell_type": "markdown",
   "metadata": {
    "slideshow": {
     "slide_type": "fragment"
    }
   },
   "source": [
    "Quoting the documentation:\n",
    "\n",
    "> The axis parameter specifies the index of the new axis in the dimensions of the result. For example, if axis=0 it will be the first dimension and if axis=-1 it will be the last dimension."
   ]
  },
  {
   "cell_type": "markdown",
   "metadata": {
    "slideshow": {
     "slide_type": "slide"
    }
   },
   "source": [
    "The same scheme still works with more than two vectors."
   ]
  },
  {
   "cell_type": "code",
   "execution_count": 7,
   "metadata": {
    "slideshow": {
     "slide_type": "fragment"
    }
   },
   "outputs": [
    {
     "name": "stdout",
     "output_type": "stream",
     "text": [
      "[[1. 3. 5. 7.]\n",
      " [2. 4. 6. 8.]\n",
      " [9. 8. 7. 6.]]\n"
     ]
    }
   ],
   "source": [
    "u = np.array([1., 3., 5., 7.])\n",
    "v = np.array([2., 4., 6., 8.])\n",
    "w = np.array([9., 8., 7., 6.])\n",
    "X = np.stack((u,v,w))\n",
    "print(X)"
   ]
  },
  {
   "cell_type": "markdown",
   "metadata": {
    "slideshow": {
     "slide_type": "skip"
    }
   },
   "source": [
    "$\\lhd$"
   ]
  },
  {
   "cell_type": "markdown",
   "metadata": {
    "slideshow": {
     "slide_type": "slide"
    }
   },
   "source": [
    "**Matrix-vector product** Recall that, for a matrix $A = (A_{ij})_{i\\in [n],j \\in [m]} \\in \\mathbb{R}^{n \\times m}$ and a column vector $\\mathbf{b} = (b_{i})_{i\\in [m]} \\in \\mathbb{R}^{m}$, the matrix-vector product $\\mathbf{c} = A \\mathbf{b}$ is the vector with entries\n",
    "\n",
    "$$\n",
    "c_i = (A\\mathbf{b})_i = \\sum_{j=1}^m A_{ij} b_j.\n",
    "$$\n",
    "\n",
    "In vector form, \n",
    "\n",
    "$$\n",
    "A \\mathbf{b} = \\sum_{j=1}^m A_{\\cdot,j} b_j,\n",
    "$$\n",
    "\n",
    "that is, $A \\mathbf{b}$ is a linear combination of the columns of $A$ where the coefficients are the entries of $\\mathbf{b}$."
   ]
  },
  {
   "cell_type": "markdown",
   "metadata": {
    "slideshow": {
     "slide_type": "slide"
    }
   },
   "source": [
    "**Example (continued):** Consider the column vector $\\mathbf{b} = (1, 0)^T$. Then\n",
    "\n",
    "$$\n",
    "A \\mathbf{b} \n",
    "= \\begin{bmatrix}\n",
    "2(1) + 5(0)\\\\\n",
    "3(1) + 6(0)\\\\\n",
    "1(1) + 1(0)\n",
    "\\end{bmatrix}\n",
    "= \\begin{bmatrix}\n",
    "2\\\\\n",
    "3\\\\\n",
    "1\n",
    "\\end{bmatrix},\n",
    "$$\n",
    "\n",
    "which can also be written in vector form as\n",
    "\n",
    "$$\n",
    "(1) \\begin{bmatrix}\n",
    "2\\\\\n",
    "3\\\\\n",
    "1\n",
    "\\end{bmatrix}\n",
    "+\n",
    "(0) \\begin{bmatrix}\n",
    "5\\\\\n",
    "6\\\\\n",
    "1\n",
    "\\end{bmatrix}\n",
    "= \\begin{bmatrix}\n",
    "2\\\\\n",
    "3\\\\\n",
    "1\n",
    "\\end{bmatrix}.\n",
    "$$\n",
    "\n",
    "$\\lhd$"
   ]
  },
  {
   "cell_type": "markdown",
   "metadata": {
    "slideshow": {
     "slide_type": "slide"
    }
   },
   "source": [
    "**Matrix-matrix product** Recall that, for matrices $A \\in \\mathbb{R}^{n \\times k}$ and $B \\in \\mathbb{R}^{k \\times m}$, their matrix product is defined as the matrix $C = AB \\in \\mathbb{R}^{n \\times m}$ whose entries are\n",
    "\n",
    "$$\n",
    "C_{i\\ell} = (AB)_{i\\ell} = \\sum_{j=1}^k A_{ij} B_{j\\ell}, \\qquad \\ell=1,\\ldots,m.\n",
    "$$\n",
    "\n",
    "Note that the number of columns of $A$ and the number of rows of $B$ must match. There are many different ways to view this formula that are helpful in interpreting matrix-matrix products in different contexts. "
   ]
  },
  {
   "cell_type": "markdown",
   "metadata": {
    "slideshow": {
     "slide_type": "fragment"
    }
   },
   "source": [
    "First, we observe that the entry $C_{i\\ell}$ is an inner product of the $i$-th row of $A$ and of the $\\ell$-th column of $B$. That is,\n",
    "\n",
    "$$\n",
    "C_{i\\ell} = A_{i,\\cdot} B_{\\cdot,\\ell}.\n",
    "$$\n",
    "\n",
    "In matrix form,\n",
    "\n",
    "$$\n",
    "AB = \\begin{bmatrix}\n",
    "A_{1,\\cdot} B_{\\cdot,1} & A_{1,\\cdot} B_{\\cdot,2} & \\cdots & A_{1,\\cdot} B_{\\cdot,m} \\\\\n",
    "A_{2,\\cdot} B_{\\cdot,1} & A_{2,\\cdot} B_{\\cdot,2} & \\cdots & A_{2,\\cdot} B_{\\cdot,m} \\\\\n",
    "\\vdots & \\vdots & \\ddots & \\vdots\\\\\n",
    "A_{n,\\cdot} B_{\\cdot,1} & A_{n,\\cdot} B_{\\cdot,2} & \\cdots & A_{n,\\cdot} B_{\\cdot,m}\n",
    "\\end{bmatrix}.\n",
    "$$"
   ]
  },
  {
   "cell_type": "markdown",
   "metadata": {
    "slideshow": {
     "slide_type": "slide"
    }
   },
   "source": [
    "Alternatively, the previous display can be re-written as \n",
    "\n",
    "$$\n",
    "AB\n",
    "= \n",
    "\\begin{bmatrix}\n",
    "A (B_{\\cdot,1}) & A (B_{\\cdot,2}) & \\cdots & A (B_{\\cdot,m})\n",
    "\\end{bmatrix},\n",
    "$$\n",
    "\n",
    "where we specify a matrix by the collection of its columns. \n",
    "\n",
    "Put differently, by the matrix-vector product formula above, the $j$-th column of the product $AB$ is a linear combination of the columns of $A$ where the coefficients are the entries in column $j$ of $B$\n",
    "\n",
    "$$\n",
    "(AB)_{\\cdot,j} \n",
    "= A B_{\\cdot,j}\n",
    "= \\sum_{\\ell=1}^k A_{\\cdot,\\ell} B_{\\ell j}.\n",
    "$$"
   ]
  },
  {
   "cell_type": "markdown",
   "metadata": {
    "slideshow": {
     "slide_type": "slide"
    }
   },
   "source": [
    "Similarly, the $i$-th row of the product $AB$ is a linear combination of the rows of $B$ where the coefficients are the entries in row $i$ of $A$\n",
    "\n",
    "$$\n",
    "(AB)_{i,\\cdot} = \\sum_{\\ell=1}^k A_{i\\ell} B_{\\ell,\\cdot}.\n",
    "$$\n",
    "\n",
    "Writing $AB$ as the collection of its rows, this is\n",
    "\n",
    "$$\n",
    "AB\n",
    "= \\begin{bmatrix}\n",
    "A_{1,\\cdot} B\\\\\n",
    "A_{2,\\cdot} B\\\\\n",
    "\\vdots\\\\\n",
    "A_{n,\\cdot} B\n",
    "\\end{bmatrix},\n",
    "$$\n",
    "\n",
    "where recall that $A_{i,\\cdot}$ is a row vector."
   ]
  },
  {
   "cell_type": "markdown",
   "metadata": {
    "slideshow": {
     "slide_type": "slide"
    }
   },
   "source": [
    "**Matrix norms** We will also need a notion of matrix norm. A natural way to define a norm for matrices is to notice that an $n \\times m$ matrix $A$ can be thought of as an $nm$ vector, with one element for each entry of $A$. Indeed, addition and scalar multiplication work exactly in the same way. Hence, we can define the $2$-norm of a matrix in terms of the sum of its squared entries. (We will encounter other matrix norms later in the course.)\n",
    "\n",
    "**Definition (Frobenius Norm):** The Frobenius norm of an $n \\times m$ matrix $A \\in \\mathbb{R}^{n \\times m}$ is defined as\n",
    "\n",
    "$$\n",
    "\\|A\\|_F\n",
    "= \\sqrt{\\sum_{i=1}^n \\sum_{j=1}^m A_{ij}^2}.\n",
    "$$\n",
    "\n",
    "$\\lhd$"
   ]
  },
  {
   "cell_type": "markdown",
   "metadata": {
    "slideshow": {
     "slide_type": "fragment"
    }
   },
   "source": [
    "Using the row notation, we see that the square of the Frobenius norm can be written as the sum of the squared Euclidean norms of the rows\n",
    " \n",
    "$$\n",
    "\\|A\\|_F^2 = \\sum_{i=1}^n \\|A_{i,\\cdot}\\|_2^2.\n",
    "$$\n",
    "\n",
    "Similarly in terms of the columns $A_{\\cdot,j}$, $j=1,\\ldots,m$, of $A$ we have\n",
    "$\\|A\\|_F^2 = \\sum_{j=1}^m \\|A_{\\cdot,j}\\|_2^2$."
   ]
  },
  {
   "cell_type": "markdown",
   "metadata": {
    "slideshow": {
     "slide_type": "slide"
    }
   },
   "source": [
    "For two matrices $A, B \\in \\mathbb{R}^{n \\times m}$, the Frobenius norm of their difference $\\|A - B\\|_F$ can be interpreted as a distance between $A$ and $B$, that is, a measure of how dissimilar they are."
   ]
  },
  {
   "cell_type": "markdown",
   "metadata": {
    "slideshow": {
     "slide_type": "skip"
    }
   },
   "source": [
    "**NUMERICAL CORNER:** In Numpy, the Frobenius norm of a matrix can be computed using the function [`numpy.linalg.norm`](https://numpy.org/doc/stable/reference/generated/numpy.linalg.norm.html)."
   ]
  },
  {
   "cell_type": "code",
   "execution_count": 8,
   "metadata": {
    "slideshow": {
     "slide_type": "skip"
    }
   },
   "outputs": [
    {
     "name": "stdout",
     "output_type": "stream",
     "text": [
      "[[1. 0.]\n",
      " [0. 1.]\n",
      " [0. 0.]]\n"
     ]
    }
   ],
   "source": [
    "A = np.array([[1., 0.],[0., 1.],[0., 0.]])\n",
    "print(A)"
   ]
  },
  {
   "cell_type": "code",
   "execution_count": 9,
   "metadata": {
    "slideshow": {
     "slide_type": "skip"
    }
   },
   "outputs": [
    {
     "data": {
      "text/plain": [
       "1.4142135623730951"
      ]
     },
     "execution_count": 9,
     "metadata": {},
     "output_type": "execute_result"
    }
   ],
   "source": [
    "LA.norm(A)"
   ]
  },
  {
   "cell_type": "markdown",
   "metadata": {
    "slideshow": {
     "slide_type": "skip"
    }
   },
   "source": [
    "$\\lhd$"
   ]
  },
  {
   "cell_type": "markdown",
   "metadata": {
    "slideshow": {
     "slide_type": "slide"
    }
   },
   "source": [
    "### 1.2.2 Differential calculus"
   ]
  },
  {
   "cell_type": "markdown",
   "metadata": {
    "slideshow": {
     "slide_type": "skip"
    }
   },
   "source": [
    "Next, we review some basic concepts from differential calculus. We focus here on definitions and results relevant to optimization theory, which plays a central role in data science."
   ]
  },
  {
   "cell_type": "markdown",
   "metadata": {
    "slideshow": {
     "slide_type": "slide"
    }
   },
   "source": [
    "#### 1.2.2.1 Limits and continuity\n",
    "\n",
    "Throughout this section, we use the Euclidean norm $\\|\\mathbf{x}\\| = \\sqrt{\\sum_{i=1}^d x_i^2}$ for $\\mathbf{x} = (x_1,\\ldots, x_d)^T \\in \\mathbb{R}^d$."
   ]
  },
  {
   "cell_type": "markdown",
   "metadata": {
    "slideshow": {
     "slide_type": "fragment"
    }
   },
   "source": [
    "The open $r$-ball around $\\mathbf{x} \\in \\mathbb{R}^d$ is the set of points within Euclidean distance $r$ of $\\mathbf{x}$, that is,\n",
    "\n",
    "$$\n",
    "B_r(\\mathbf{x}) = \\{\\mathbf{y}  \\in \\mathbb{R}^d \\,:\\, \\|\\mathbf{y} - \\mathbf{x}\\| < r\\}.\n",
    "$$\n",
    "\n",
    "A point $\\mathbf{x} \\in \\mathbb{R}^d$ is a limit point (or accumulation point) of a set $A \\subseteq \\mathbb{R}^d$ if every open ball around $\\mathbf{x}$ contains an element $\\mathbf{a}$ of $A$ such that $\\mathbf{a} \\neq \\mathbf{x}$. A set $A$ is [closed](https://en.wikipedia.org/wiki/Closed_set) if every limit point of $A$ belongs to $A$."
   ]
  },
  {
   "cell_type": "markdown",
   "metadata": {
    "slideshow": {
     "slide_type": "slide"
    }
   },
   "source": [
    "![limit point](https://1.bp.blogspot.com/-hc5TCEO6Sdo/WkBJtvWoTvI/AAAAAAAAALg/noT83CnNSxQ30_W4xDivMOIMS1Y9k6YHACLcBGAs/s1600/topological_space_accum%2B%25281%2529.png)\n",
    "\n",
    "([Source](https://www.math212.com/2017/12/limit-point-closure.html))"
   ]
  },
  {
   "cell_type": "markdown",
   "metadata": {
    "slideshow": {
     "slide_type": "slide"
    }
   },
   "source": [
    "A point $\\mathbf{x} \\in \\mathbb{R}^d$ is an interior point of a set $A \\subseteq \\mathbb{R}^d$ if there exists an $r > 0$ such that $B_r(\\mathbf{x}) \\subseteq A$.\n",
    "A set $A$ is [open](https://en.wikipedia.org/wiki/Open_set) if it consists entirely of interior points."
   ]
  },
  {
   "cell_type": "markdown",
   "metadata": {
    "slideshow": {
     "slide_type": "fragment"
    }
   },
   "source": [
    "![Open set](https://upload.wikimedia.org/wikipedia/commons/thumb/d/de/Open_set_-_example.png/320px-Open_set_-_example.png)\n",
    "\n",
    "([Source](https://commons.wikimedia.org/wiki/File:Open_set_-_example.png))"
   ]
  },
  {
   "cell_type": "markdown",
   "metadata": {
    "slideshow": {
     "slide_type": "slide"
    }
   },
   "source": [
    "A set $A \\subseteq \\mathbb{R}^d$ is bounded if there exists an $r > 0$ such that $A \\subseteq B_r(\\mathbf{0})$, where $\\mathbf{0} = (0,\\ldots,0)^T$."
   ]
  },
  {
   "cell_type": "markdown",
   "metadata": {
    "slideshow": {
     "slide_type": "slide"
    }
   },
   "source": [
    "**Definition (Limits of a Function):** Let $f: D \\to \\mathbb{R}$ be a real-valued function on $D \\subseteq \\mathbb{R}^d$. Then $f$ is said to have a limit $L \\in \\mathbb{R}$ as $\\mathbf{x}$ approaches $\\mathbf{a}$ if: for any $\\varepsilon > 0$, there exists a $\\delta > 0$ such that $|f(\\mathbf{x}) - L| < \\varepsilon$ for all $\\mathbf{x} \\in D \\cap B_\\delta(\\mathbf{a})\\setminus \\{\\mathbf{a}\\}$. This is written as \n",
    "\n",
    "$$\n",
    "\\lim_{\\mathbf{x} \\to \\mathbf{a}} f(\\mathbf{x}) = L.\n",
    "$$\n",
    "\n",
    "$\\lhd$"
   ]
  },
  {
   "cell_type": "markdown",
   "metadata": {
    "slideshow": {
     "slide_type": "fragment"
    }
   },
   "source": [
    "![Limit of a function](http://tutorial.math.lamar.edu/Classes/CalcI/TheLimit_Files/image002.png)\n",
    "\n",
    "([Source](https://tutorial.math.lamar.edu/Classes/CalcI/TheLimit.aspx))"
   ]
  },
  {
   "cell_type": "markdown",
   "metadata": {
    "slideshow": {
     "slide_type": "fragment"
    }
   },
   "source": [
    "Note that we explicitly exclude $\\mathbf{a}$ itself from having to satisfy the condition $|f(\\mathbf{x}) - L| < \\varepsilon$. In particular, we may have $f(\\mathbf{a}) \\neq L$. We also do not restrict $\\mathbf{a}$ to be in $D$."
   ]
  },
  {
   "cell_type": "markdown",
   "metadata": {
    "slideshow": {
     "slide_type": "slide"
    }
   },
   "source": [
    "**Definition (Continuous Function):** Let $f: D \\to \\mathbb{R}$ be a real-valued function on $D \\subseteq \\mathbb{R}^d$. Then $f$ is said to be continuous at $\\mathbf{a} \\in D$ if \n",
    "\n",
    "$$\n",
    "\\lim_{\\mathbf{x} \\to \\mathbf{a}} f(\\mathbf{x}) = f(\\mathbf{a}).\n",
    "$$\n",
    "\n",
    "$\\lhd$"
   ]
  },
  {
   "cell_type": "markdown",
   "metadata": {
    "slideshow": {
     "slide_type": "fragment"
    }
   },
   "source": [
    "![Continuous function](https://upload.wikimedia.org/wikipedia/commons/thumb/7/7f/Example_of_continuous_function.svg/232px-Example_of_continuous_function.svg.png)\n",
    "\n",
    "([Source](https://commons.wikimedia.org/wiki/File:Example_of_continuous_function.svg))"
   ]
  },
  {
   "cell_type": "markdown",
   "metadata": {
    "slideshow": {
     "slide_type": "slide"
    }
   },
   "source": [
    "We will not prove the following fundamental analysis result, which will be used repeatedly in this course. (See e.g. [Wikipedia](https://en.wikipedia.org/wiki/Extreme_value_theorem) for a sketch of the proof.) Suppose $f : D \\to \\mathbb{R}$ is defined on a set $D \\subseteq \\mathbb{R}^d$. We say that $f$ attains a maximum value $M$ at $\\mathbf{z}^*$ if $f(\\mathbf{z}^*) = M$ and $M \\geq f(\\mathbf{x})$ for all $\\mathbf{x} \\in D$. Similarly, we say $f$ attains a minimum value $m$ at $\\mathbf{z}_*$ if $f(\\mathbf{z}_*) = m$ and $m \\geq f(\\mathbf{x})$ for all $\\mathbf{x} \\in D$.\n",
    "\n",
    "***\n",
    "\n",
    "**Theorem (Extreme Value):** Let $f : D \\to \\mathbb{R}$ be a real-valued, continuous function on a nonempty, closed, bounded set $D\\subseteq \\mathbb{R}^d$. Then $f$ attains a maximum and a minimum on $D$. \n",
    "\n",
    "\n",
    "***"
   ]
  },
  {
   "cell_type": "markdown",
   "metadata": {
    "slideshow": {
     "slide_type": "slide"
    }
   },
   "source": [
    "#### 1.2.2.2 Derivatives\n",
    "\n",
    "We move on to derivatives. Recall that the derivative of a function of a real variable is the rate of change of the function with respect to the change in the variable. Formally:"
   ]
  },
  {
   "cell_type": "markdown",
   "metadata": {
    "slideshow": {
     "slide_type": "fragment"
    }
   },
   "source": [
    "**Definition (Derivative):** Let $f : D \\to \\mathbb{R}$ where $D \\subseteq \\mathbb{R}$ and let $x_0 \\in D$ be an interior point of $D$. The derivative of $f$ at $x_0$ is \n",
    "\n",
    "$$\n",
    "f'(x_0) \n",
    "= \\frac{\\mathrm{d} f (x_0)}{\\mathrm{d} x}\n",
    "= \\lim_{h \\to 0} \\frac{f(x_0 + h) - f(x_0)}{h}\n",
    "$$\n",
    "\n",
    "provided the limit exists. $\\lhd$"
   ]
  },
  {
   "cell_type": "markdown",
   "metadata": {
    "slideshow": {
     "slide_type": "slide"
    }
   },
   "source": [
    "![Derivative](https://upload.wikimedia.org/wikipedia/commons/thumb/0/0f/Tangent_to_a_curve.svg/320px-Tangent_to_a_curve.svg.png)\n",
    "\n",
    "([Source](https://commons.wikimedia.org/wiki/File:Tangent_to_a_curve.svg))"
   ]
  },
  {
   "cell_type": "markdown",
   "metadata": {
    "slideshow": {
     "slide_type": "slide"
    }
   },
   "source": [
    "The following lemma encapsulates a key insight about the derivative of $f$ at $x_0$: it tells us where to find smaller values."
   ]
  },
  {
   "cell_type": "markdown",
   "metadata": {
    "slideshow": {
     "slide_type": "fragment"
    }
   },
   "source": [
    "***\n",
    "\n",
    "**Lemma (Descent Direction):** Let $f : D \\to \\mathbb{R}$ with $D \\subseteq \\mathbb{R}$ and let $x_0 \\in D$ be an interior point of $D$ where $f'(x_0)$ exists. If $f'(x_0) > 0$, then there is an open ball $B_\\delta(x_0) \\subseteq D$ around $x_0$\n",
    "such that for each $x$ in $B_\\delta(x_0)$:\n",
    "\n",
    "(a) $f(x) > f(x_0)$ if $x > x_0$,\n",
    "(b) $f(x) < f(x_0)$ if $x < x_0$.\n",
    "\n",
    "If instead $f'(x_0) < 0$, the opposite holds.\n",
    "\n",
    "***"
   ]
  },
  {
   "cell_type": "markdown",
   "metadata": {
    "slideshow": {
     "slide_type": "fragment"
    }
   },
   "source": [
    "*Proof idea:* Follows from the definition of the derivative by taking $\\varepsilon$ small enough that $f'(x_0) - \\varepsilon > 0$."
   ]
  },
  {
   "cell_type": "markdown",
   "metadata": {
    "slideshow": {
     "slide_type": "slide"
    }
   },
   "source": [
    "*Proof:* Take $\\varepsilon = f'(x_0)/2$. By definition of the derivative, there is $\\delta > 0$ such that \n",
    "\n",
    "$$\n",
    "f'(x_0)\n",
    "-\n",
    "\\frac{f(x_0 + h) - f(x_0)}{h}\n",
    "< \\varepsilon\n",
    "$$\n",
    "\n",
    "for all $0 < h < \\delta$. Rearranging gives\n",
    "\n",
    "$$\n",
    "f(x_0 + h) \n",
    "> f(x_0) + [f'(x_0) - \\varepsilon] h\n",
    "> f(x_0)\n",
    "$$\n",
    "\n",
    "by our choice of $\\varepsilon$. The other direction is similar. $\\square$"
   ]
  },
  {
   "cell_type": "markdown",
   "metadata": {
    "slideshow": {
     "slide_type": "slide"
    }
   },
   "source": [
    "One implication of the *Descent Direction Lemma* is the *Mean Value Theorem*, which will lead us later to *Taylor's Theorem*. First, an important special case:\n",
    "\n",
    "***\n",
    "\n",
    "**Theorem (Rolle):** Let $f : [a,b] \\to \\mathbb{R}$ be a continuous function and assume that its derivative exists on $(a,b)$. If $f(a) = f(b)$ then there is $a < c < b$ such that $f'(c) = 0$.\n",
    "\n",
    "***"
   ]
  },
  {
   "cell_type": "markdown",
   "metadata": {
    "slideshow": {
     "slide_type": "fragment"
    }
   },
   "source": [
    "*Proof idea:* Look at an extremum and use the *Descent Direction Lemma* to get a contradiction.\n",
    "\n",
    "![Rolle](https://upload.wikimedia.org/wikipedia/commons/thumb/a/a9/RTCalc.svg/320px-RTCalc.svg.png)\n",
    "\n",
    "([Source](https://commons.wikimedia.org/wiki/File:RTCalc.svg))"
   ]
  },
  {
   "cell_type": "markdown",
   "metadata": {
    "slideshow": {
     "slide_type": "slide"
    }
   },
   "source": [
    "*Proof:* If $f(x) = f(a)$ for all $x \\in (a, b)$, then $f'(x) = 0$ on $(a, b)$ and we are done. So assume there is $y \\in (a, b)$ such that $f(y) \\neq f(a)$. Assume without loss of generality that $f(y) > f(a)$ (otherwise consider the function $-f$). By the *Extreme Value Theorem*, $f$ attains a maximum value at some $c \\in [a,b]$. By our assumption, $a$ and $b$ cannot be the location of the maximum and it must be that $c \\in (a, b)$. \n",
    "\n",
    "We claim that $f'(c) = 0$. We argue by contradiction. Suppose $f'(c) > 0$. By the *Descent Direction Lemma*, there is a $\\delta > 0$ such that $f(x) > f(c)$ for all $x \\in B_\\delta(c)$, a contradiction. A similar argument holds if $f'(c) < 0$. That concludes the proof. $\\square$"
   ]
  },
  {
   "cell_type": "markdown",
   "metadata": {
    "slideshow": {
     "slide_type": "slide"
    }
   },
   "source": [
    "***\n",
    "\n",
    "**Theorem (Mean Value):** Let $f : [a,b] \\to \\mathbb{R}$ be a continuous function and assume that its derivative exists on $(a,b)$. Then there is $a < c < b$ such that\n",
    "\n",
    "$$\n",
    "f(b) = f(a) + (b-a)f'(c),\n",
    "$$\n",
    "\n",
    "or put differently\n",
    "\n",
    "$$\n",
    "\\frac{f(b) - f(a)}{b-a} = f'(c).\n",
    "$$\n",
    "\n",
    "\n",
    "***"
   ]
  },
  {
   "cell_type": "markdown",
   "metadata": {
    "slideshow": {
     "slide_type": "slide"
    }
   },
   "source": [
    "*Proof idea:* Apply *Rolle* to \n",
    "\n",
    "$$\n",
    "\\phi(x) = f(x) - \\left[f(a) + \\frac{f(b) - f(a)}{b - a} (x-a)\\right].\n",
    "$$\n",
    "\n",
    "![Mean value](https://upload.wikimedia.org/wikipedia/commons/thumb/e/ee/Mvt2.svg/272px-Mvt2.svg.png)\n",
    "\n",
    "([Source](https://commons.wikimedia.org/wiki/File:Mvt2.svg))"
   ]
  },
  {
   "cell_type": "markdown",
   "metadata": {
    "slideshow": {
     "slide_type": "skip"
    }
   },
   "source": [
    "*Proof:* Let $\\phi(x) = f(x) - f(a) - \\frac{f(b) - f(a)}{b - a} (x-a)$. Note that $\\phi(a) = \\phi(b) = 0$ and $\\phi'(x) = f'(x) - \\frac{f(b) - f(a)}{b - a}$ for all $x \\in (a, b)$. Thus, by *Rolle*, there is $c \\in (a, b)$ such that $\\phi'(c) = 0$. That implies $\\frac{f(b) - f(a)}{b - a} = \\phi'(c)$ and plugging into $\\phi(b)$ gives the result. $\\square$\n"
   ]
  },
  {
   "cell_type": "markdown",
   "metadata": {
    "slideshow": {
     "slide_type": "skip"
    }
   },
   "source": [
    "We will also use *Taylor's Theorem*, a generalization of the *Mean Value Theorem* that provides a polynomial approximation to a function around a point. We will restrict ourselves to the case of a linear approximation with second-order error term, which will suffice for our purposes. "
   ]
  },
  {
   "cell_type": "markdown",
   "metadata": {
    "slideshow": {
     "slide_type": "slide"
    }
   },
   "source": [
    "***\n",
    "\n",
    "**Theorem (Taylor):** Let $f: D \\to \\mathbb{R}$ where $D \\subseteq \\mathbb{R}$. Suppose $f$ has a continuous derivative on $[a,b]$ and that its second derivative exists on $(a,b)$. Then for any $x \\in [a, b]$\n",
    "\n",
    "$$\n",
    "f(x)\n",
    "= f(a) + (x-a) f'(a) + \\frac{1}{2} (x-a)^2 f''(\\xi)\n",
    "$$\n",
    "\n",
    "for some $a < \\xi < x$.\n",
    "\n",
    "***"
   ]
  },
  {
   "cell_type": "markdown",
   "metadata": {
    "slideshow": {
     "slide_type": "fragment"
    }
   },
   "source": [
    "*Proof idea:* The *Mean Value Theorem* implies that there is $a < \\xi< x$ such that \n",
    "\n",
    "$$\n",
    "f(x) = f(a) + (x - a)f'(\\xi).\n",
    "$$\n",
    "\n",
    "One way to think of the proof of that result is the following: we constructed an affine function that agrees with $f$ at $a$ and $x$, then used *Rolle* to express the coefficient of the linear term using $f'$. Here we do the same with a polynomial of degree $2$. But we now have an extra degree of freedom in choosing this polynomial. Because we are looking for a good approximation close to $a$, we choose to make the first derivative at $a$ also agree. Applying *Rolle* twice gives the claim."
   ]
  },
  {
   "cell_type": "markdown",
   "metadata": {
    "slideshow": {
     "slide_type": "slide"
    }
   },
   "source": [
    "*Proof:* Let\n",
    "\n",
    "$$\n",
    "P(t) = \\alpha_0 + \\alpha_1 (t-a) + \\alpha_2 (t-a)^2.\n",
    "$$\n",
    "\n",
    "We choose the $\\alpha_i$'s so that $P(a) = f(a)$, $P'(a) = f'(a)$, and $P(x) = f(x)$. The first two lead to the conditions\n",
    "\n",
    "$$\n",
    "\\alpha_0 = f(a), \\quad \\alpha_1 = f'(a). \n",
    "$$"
   ]
  },
  {
   "cell_type": "markdown",
   "metadata": {
    "slideshow": {
     "slide_type": "fragment"
    }
   },
   "source": [
    "Let $\\phi(t) = f(t) - P(t)$. By construction $\\phi(a) = \\phi(x) = 0$. By *Rolle*, there is  a $\\xi' \\in (a, x)$ such that $\\phi'(\\xi') = 0$. Moreover, $\\phi'(a) = 0$. Hence we can apply *Rolle* again - this time to $\\phi'$ on $[a, \\xi']$. It implies that there is $\\xi \\in (a, \\xi')$ such that $\\phi''(\\xi) = 0$.\n",
    "\n",
    "The second derivative of $\\phi$ at $\\xi$ is\n",
    "\n",
    "$$\n",
    "0 = \\phi''(\\xi) \n",
    "= f''(\\xi) - P''(\\xi) \n",
    "= f''(\\xi) - 2 \\alpha_2\n",
    "$$\n",
    "\n",
    "so $\\alpha_2 = f''(\\xi)/2$. Plugging into $P$ and using $\\phi(x) = 0$ gives the claim. $\\square$"
   ]
  },
  {
   "cell_type": "markdown",
   "metadata": {
    "slideshow": {
     "slide_type": "slide"
    }
   },
   "source": [
    "#### 1.2.2.3 Optimization"
   ]
  },
  {
   "cell_type": "markdown",
   "metadata": {
    "slideshow": {
     "slide_type": "fragment"
    }
   },
   "source": [
    "As we mentioned before, optimization problems play a central role in data science. Here we look at unconstrained optimization problems, that is, problems of the form:\n",
    "\n",
    "$$\n",
    "\\min_{\\mathbf{x} \\in \\mathbb{R}^d} f(\\mathbf{x})\n",
    "$$\n",
    "\n",
    "where $f : \\mathbb{R}^d \\to \\mathbb{R}$."
   ]
  },
  {
   "cell_type": "markdown",
   "metadata": {
    "slideshow": {
     "slide_type": "slide"
    }
   },
   "source": [
    "Ideally, we would like to find a global minimizer to the optimization problem above.\n",
    "\n",
    "**Definition (Global Minimizer):** Let $f : \\mathbb{R}^d \\to \\mathbb{R}$. The point $\\mathbf{x}^* \\in \\mathbb{R}^d$ is a global minimizer of $f$ over $\\mathbb{R}^d$ if \n",
    "\n",
    "$$\n",
    "f(\\mathbf{x}) \n",
    "\\geq f(\\mathbf{x}^*), \\quad \\forall \\mathbf{x} \\in \\mathbb{R}^d. \n",
    "$$\n",
    "\n",
    "$\\lhd$"
   ]
  },
  {
   "cell_type": "markdown",
   "metadata": {
    "slideshow": {
     "slide_type": "slide"
    }
   },
   "source": [
    "**NUMERICAL CORNER:** The function $f(x) = x^2$ over $\\mathbb{R}$ has a global minimizer at $x^* = 0$. Indeed, we clearly have $f(x) \\geq 0$ for all $x$ while $f(0) = 0$. To plot the function, we use the [matplotlib](https://matplotlib.org) package, and specifically its function [`matplotlib.pyplot.plot`](https://matplotlib.org/stable/api/_as_gen/matplotlib.pyplot.plot.html). We also use the function [`numpy.linspace`](https://numpy.org/doc/stable/reference/generated/numpy.linspace.html) to create an array of evenly spaced numbers where we evaluate $f$."
   ]
  },
  {
   "cell_type": "code",
   "execution_count": 10,
   "metadata": {
    "slideshow": {
     "slide_type": "fragment"
    }
   },
   "outputs": [],
   "source": [
    "import matplotlib.pyplot as plt"
   ]
  },
  {
   "cell_type": "code",
   "execution_count": 11,
   "metadata": {
    "slideshow": {
     "slide_type": "fragment"
    }
   },
   "outputs": [
    {
     "data": {
      "image/png": "[encoded data removed]",
      "text/plain": [
       "<Figure size 432x288 with 1 Axes>"
      ]
     },
     "metadata": {
      "needs_background": "light"
     },
     "output_type": "display_data"
    }
   ],
   "source": [
    "x = np.linspace(-2,2,100)\n",
    "y = x ** 2\n",
    "plt.plot(x,y)\n",
    "plt.show()"
   ]
  },
  {
   "cell_type": "markdown",
   "metadata": {
    "slideshow": {
     "slide_type": "slide"
    }
   },
   "source": [
    "The function $f(x) = e^x$ over $\\mathbb{R}$ does not have a global minimizer. Indeed, $f(x) > 0$ but no $x$ achieves $0$. And, for any $m > 0$, there is $x$ small enough such that $f(x) < m$. Note that $\\mathbb{R}$ is *not* bounded, therefore the *Extreme Value Theorem* does not apply here."
   ]
  },
  {
   "cell_type": "code",
   "execution_count": 12,
   "metadata": {
    "slideshow": {
     "slide_type": "fragment"
    }
   },
   "outputs": [
    {
     "data": {
      "image/png": "[encoded data removed]",
      "text/plain": [
       "<Figure size 432x288 with 1 Axes>"
      ]
     },
     "metadata": {
      "needs_background": "light"
     },
     "output_type": "display_data"
    }
   ],
   "source": [
    "x = np.linspace(-2,2,100)\n",
    "y = np.exp(x)\n",
    "plt.plot(x,y)\n",
    "plt.ylim(0,5)\n",
    "plt.show()"
   ]
  },
  {
   "cell_type": "markdown",
   "metadata": {
    "slideshow": {
     "slide_type": "slide"
    }
   },
   "source": [
    "The function $f(x) = (x+1)^2 (x-1)^2$ over $\\mathbb{R}$ has two global minimizers at $x^* = -1$ and $x^{**} = 1$. Indeed, $f(x) \\geq 0$ and $f(x) = 0$ if and only $x = x^*$ or $x = x^{**}$."
   ]
  },
  {
   "cell_type": "code",
   "execution_count": 13,
   "metadata": {
    "slideshow": {
     "slide_type": "fragment"
    }
   },
   "outputs": [
    {
     "data": {
      "image/png": "[encoded data removed]",
      "text/plain": [
       "<Figure size 432x288 with 1 Axes>"
      ]
     },
     "metadata": {
      "needs_background": "light"
     },
     "output_type": "display_data"
    }
   ],
   "source": [
    "x = np.linspace(-2,2,100)\n",
    "y = ((x+1)**2) * ((x-1)**2)\n",
    "plt.plot(x,y)\n",
    "plt.ylim(0,5)\n",
    "plt.show()"
   ]
  },
  {
   "cell_type": "markdown",
   "metadata": {
    "slideshow": {
     "slide_type": "skip"
    }
   },
   "source": [
    "$\\lhd$"
   ]
  },
  {
   "cell_type": "markdown",
   "metadata": {
    "slideshow": {
     "slide_type": "slide"
    }
   },
   "source": [
    "In general, finding a global minimizer and certifying that one has been found can be difficult unless some special structure is present. Therefore weaker notions of solution have been introduced."
   ]
  },
  {
   "cell_type": "markdown",
   "metadata": {
    "slideshow": {
     "slide_type": "slide"
    }
   },
   "source": [
    "**Definition (Local Minimizer):** Let $f : \\mathbb{R}^d \\to \\mathbb{R}$. The point $\\mathbf{x}^* \\in \\mathbb{R}^d$ is a local minimizer of $f$ over $\\mathbb{R}^d$ if there is $\\delta > 0$ such that \n",
    "\n",
    "$$\n",
    "f(\\mathbf{x}) \n",
    "\\geq f(\\mathbf{x}^*), \\quad \\forall \\mathbf{x} \\in B_{\\delta}(\\mathbf{x}^*) \\setminus \\{\\mathbf{x}^*\\}. \n",
    "$$\n",
    "\n",
    "If the inequality is strict, we say that $\\mathbf{x}^*$ is a strict local minimizer. $\\lhd$"
   ]
  },
  {
   "cell_type": "markdown",
   "metadata": {
    "slideshow": {
     "slide_type": "fragment"
    }
   },
   "source": [
    "In words, $\\mathbf{x}^*$ is a local minimizer if there is open ball around $\\mathbf{x}^*$ where it attains the minimum value. The difference between global and local minimizers is illustrated in the next figure.\n",
    "\n",
    "![Local minimizer](https://upload.wikimedia.org/wikipedia/commons/thumb/6/68/Extrema_example_original.svg/300px-Extrema_example_original.svg.png)\n",
    "\n",
    "([Source](https://commons.wikimedia.org/wiki/File:Extrema_example_original.svg))"
   ]
  },
  {
   "cell_type": "markdown",
   "metadata": {
    "slideshow": {
     "slide_type": "slide"
    }
   },
   "source": [
    "Local minimizers can be characterized in terms of derivatives (or more generally, gradients, their generalization to functions of several variables; we come back to them later in the course). More precisely, they provide a necessary condition."
   ]
  },
  {
   "cell_type": "markdown",
   "metadata": {
    "slideshow": {
     "slide_type": "fragment"
    }
   },
   "source": [
    "***\n",
    "\n",
    "**Theorem (First-Order Necessary Condition):** Let $f : \\mathbb{R} \\to \\mathbb{R}$ be continuously differentiable on $\\mathbb{R}$. If $x_0$ is a local minimizer, then $f'(x_0) = 0$.\n",
    "\n",
    "***"
   ]
  },
  {
   "cell_type": "markdown",
   "metadata": {
    "slideshow": {
     "slide_type": "slide"
    }
   },
   "source": [
    "*Proof:* We argue by contradiction. Suppose that $f'(x_0) \\neq 0$. Say $f'(x_0) > 0$ (the other case being similar). By the *Descent Direction Lemma*, there is a $\\delta > 0$ such that, for each $x$ in $B_\\delta(x_0)$, $f(x) < f(x_0)$ if $x < x_0$. So every open ball around $x_0$ has a point achieving a smaller value than $f(x_0)$. Thus $x_0$ is not a local minimizer, a contradiction. So it must be that $f'(x_0) = 0$. $\\square$"
   ]
  },
  {
   "cell_type": "markdown",
   "metadata": {
    "slideshow": {
     "slide_type": "slide"
    }
   },
   "source": [
    "### 1.2.3 Probability"
   ]
  },
  {
   "cell_type": "markdown",
   "metadata": {
    "slideshow": {
     "slide_type": "skip"
    }
   },
   "source": [
    "Finally, we review a few key definitions and results from probability theory. Further concepts will be reviewed later in the course."
   ]
  },
  {
   "cell_type": "markdown",
   "metadata": {
    "slideshow": {
     "slide_type": "slide"
    }
   },
   "source": [
    "#### 1.2.3.1 Expectation, variance and Chebyshev's inequality"
   ]
  },
  {
   "cell_type": "markdown",
   "metadata": {
    "slideshow": {
     "slide_type": "fragment"
    }
   },
   "source": [
    "Recall that the [expectation](https://en.wikipedia.org/wiki/Expected_value) (or mean) of a function $h$ of a discrete random variable $X$ taking values in $\\mathcal{X}$ is given by\n",
    "\n",
    "$$\n",
    "\\mathbb{E}[h(X)]\n",
    "= \\sum_{x \\in \\mathcal{X}} h(x)\\,p_X(x)\n",
    "$$\n",
    "\n",
    "where $p_X(x) = \\mathbb{P}[X = x]$ is the [probability mass function](https://en.wikipedia.org/wiki/Probability_mass_function) (PMF) of $X$.\n",
    "In the continuous case, we have\n",
    "\n",
    "$$\n",
    "\\mathbb{E}[h(X)]\n",
    "= \\int h(x) f_X(x)\\,\\mathrm{d}x\n",
    "$$\n",
    "\n",
    "if $f_X$ is the [probability density function](https://en.wikipedia.org/wiki/Probability_density_function) (PDF) of $X$. \n",
    "\n",
    "These definitions extend to functions of multiple variables by using instead the joint PMF or PDF. \n",
    "\n",
    "We sometimes denote the expectation of $X$ by $\\mu_X$."
   ]
  },
  {
   "cell_type": "markdown",
   "metadata": {
    "slideshow": {
     "slide_type": "slide"
    }
   },
   "source": [
    "Two key properties of the expectation are: \n",
    "\n",
    "- *linearity*, that is,\n",
    "\n",
    "$$\n",
    "\\mathbb{E}[\\alpha_1 h_1(X) + \\alpha_2 h_2(Y) + \\beta] = \\alpha_1 \\,\\mathbb{E}[h_1(X)] + \\alpha_2 \\,\\mathbb{E}[h_2(Y)] + \\beta\n",
    "$$\n",
    "\n",
    "- *monotonicity*, that is, if $h_1(x) \\leq h_2(x)$ for all $x$ then\n",
    "\n",
    "$$\n",
    "\\mathbb{E}[h_1(X)] \\leq \\mathbb{E}[h_2(X)].\n",
    "$$"
   ]
  },
  {
   "cell_type": "markdown",
   "metadata": {
    "slideshow": {
     "slide_type": "slide"
    }
   },
   "source": [
    "The [variance](https://en.wikipedia.org/wiki/Variance) of a real-valued random variable $X$ is\n",
    "\n",
    "$$\n",
    "\\mathrm{Var}[X] = \\mathbb{E}[(X - \\mathbb{E}[X])^2]\n",
    "$$\n",
    "\n",
    "and its standard deviation is $\\sigma_X = \\sqrt{\\mathrm{Var}[X]}$. The variance does not satisfy linearity, but we have the following property\n",
    "\n",
    "$$\n",
    "\\mathrm{Var}[\\alpha X + \\beta] = \\alpha^2 \\,\\mathrm{Var}[X].\n",
    "$$\n",
    "\n",
    "The standard deviation is a measure of the typical deviation of $X$ around its mean, that is, of the spread of the distribution.\n",
    "A quantitative version of this statement is given by *Chebyshev's inequality*."
   ]
  },
  {
   "cell_type": "markdown",
   "metadata": {
    "slideshow": {
     "slide_type": "slide"
    }
   },
   "source": [
    "***\n",
    "**Theorem (Chebyshev)** For a random variable $X$ with finite variance, we have for any $\\alpha > 0$\n",
    "\n",
    "$$\n",
    "\\mathbb{P}[|X - \\mathbb{E}[X]| \\geq \\alpha] \n",
    "\\leq \\frac{\\mathrm{Var}[X]}{\\alpha^2}\n",
    "= \\left(\\frac{\\sigma_X}{\\alpha}\\right)^2.\n",
    "$$\n",
    "***\n",
    "\n",
    "The intuition is the following: if the expected squared deviation from the mean is small, then the absolute deviation from the mean is unlikely to be large."
   ]
  },
  {
   "cell_type": "markdown",
   "metadata": {
    "slideshow": {
     "slide_type": "slide"
    }
   },
   "source": [
    "To formalize this we prove a more general inequality, *Makov's inequality*. In words, if a non-negative random variable has a small expectation then it is unlikely to be large.\n",
    "\n",
    "***\n",
    "**Lemma (Markov)** Let $Z$ be a non-negative random variable with finite expectation. Then, for any $\\beta > 0$,\n",
    "\n",
    "$$\n",
    "\\mathbb{P}[Z \\geq \\beta] \\leq \\frac{\\mathbb{E}[Z]}{\\beta}.\n",
    "$$\n",
    "***\n",
    "\n",
    "*Proof idea:* The quantity $\\beta \\,\\mathbb{P}[Z \\geq \\beta]$ is a lower bound on the expectation of $Z$ restricted to the range $\\{Z\\geq \\beta\\}$, which by non-negativity is itself lower bounded by $\\mathbb{E}[Z]$."
   ]
  },
  {
   "cell_type": "markdown",
   "metadata": {
    "slideshow": {
     "slide_type": "slide"
    }
   },
   "source": [
    "*Proof:* Formally, let $\\mathbf{1}_A$ be the indicator of the event $A$, that is, it is the random variable that is $1$ when $A$ occurs and $0$ otherwise. By definition, the expectation of $\\mathbf{1}_A$ is \n",
    "\n",
    "$$\n",
    "\\mathbb{E}[A] = 0\\,\\mathbb{P}[\\mathbf{1}_A = 0] + 1\\,\\mathbb{P}[\\mathbf{1}_A = 1] = \\mathbb{P}[A]\n",
    "$$\n",
    "where $A^c$ is the complement of $A$. Hence, by linearity and monotonicity,\n",
    "\n",
    "$$\n",
    "\\beta \\,\\mathbb{P}[Z \\geq \\beta] \n",
    "= \\beta \\,\\mathbb{E}[\\mathbf{1}_{Z \\geq \\beta}]\n",
    "= \\mathbb{E}[\\beta \\mathbf{1}_{Z \\geq \\beta}]\n",
    "\\leq \\mathbb{E}[Z].\n",
    "$$\n",
    "\n",
    "Rearranging gives the claim. $\\square$"
   ]
  },
  {
   "cell_type": "markdown",
   "metadata": {
    "slideshow": {
     "slide_type": "slide"
    }
   },
   "source": [
    "Finally we return to the proof of *Chebyshev*.\n",
    "\n",
    "*Proof idea (Chebyshev):* Simply apply *Markov* to the squared deviation of $X$ from its mean. \n",
    "\n",
    "*Proof (Chebyshev):* Let $Z = (X - \\mathbb{E}[X])^2$, which is non-negative by definition. Hence, by *Markov*, for any $\\beta = \\alpha^2 > 0$\n",
    "\n",
    "$$\n",
    "\\begin{align*}\n",
    "\\mathbb{P}[|X - \\mathbb{E}[X]| \\geq \\alpha]\n",
    "&= \\mathbb{P}[(X - \\mathbb{E}[X])^2 \\geq \\alpha^2]\\\\\n",
    "&= \\mathbb{P}[Z \\geq \\beta]\\\\\n",
    "&\\leq \\frac{\\mathbb{E}[Z]}{\\beta}\\\\\n",
    "&= \\frac{\\mathrm{Var}[X]}{\\alpha^2}\n",
    "\\end{align*}\n",
    "$$\n",
    "where we used the definition of the variance in the last equality.$\\square$"
   ]
  },
  {
   "cell_type": "markdown",
   "metadata": {
    "slideshow": {
     "slide_type": "slide"
    }
   },
   "source": [
    "A few important remarks about *Chebyshev's inequality*:\n",
    "\n",
    "(1) We sometimes need a one-sided bound of the form\n",
    "\n",
    "$$\n",
    "\\mathbb{P}[X - \\mathbb{E}[X] \\geq \\alpha].\n",
    "$$\n",
    "\n",
    "Note the absence of absolute values compared to the two-sided form appearing in *Chebyshev's inequality*. In this case, we can use the fact that the event $\\{X - \\mathbb{E}[X] \\geq \\alpha\\}$ implies a fortiori that \n",
    "$\\{|X - \\mathbb{E}[X]| \\geq \\alpha\\}$, so that the probability of the former is smaller than that of the latter by monotonicity, namely,\n",
    "\n",
    "$$\n",
    "\\mathbb{P}[X - \\mathbb{E}[X] \\geq \\alpha]\n",
    "\\leq \\mathbb{P}[|X - \\mathbb{E}[X]| \\geq \\alpha].\n",
    "$$"
   ]
  },
  {
   "cell_type": "markdown",
   "metadata": {
    "slideshow": {
     "slide_type": "fragment"
    }
   },
   "source": [
    "We can then use *Chebyshev's inequality* on the right-hand side to obtain\n",
    "\n",
    "$$\n",
    "\\mathbb{P}[X - \\mathbb{E}[X] \\geq \\alpha]\n",
    "\\leq \\frac{\\mathrm{Var}[X]}{\\alpha^2}.\n",
    "$$\n",
    "\n",
    "Similarly, for the same reasons, we also have\n",
    "\n",
    "$$\n",
    "\\mathbb{P}[X - \\mathbb{E}[X] \\leq - \\alpha]\n",
    "\\leq \\frac{\\mathrm{Var}[X]}{\\alpha^2}.\n",
    "$$"
   ]
  },
  {
   "cell_type": "markdown",
   "metadata": {
    "slideshow": {
     "slide_type": "slide"
    }
   },
   "source": [
    "(2) In terms of the standard deviation $\\sigma_X = \\sqrt{\\mathrm{Var}[X]}$ of $X$, the inequality can be re-written as\n",
    "\n",
    "$$\n",
    "\\mathbb{P}[|X - \\mathbb{E}[X]| \\geq \\alpha] \n",
    "\\leq \\frac{\\mathrm{Var}[X]}{\\alpha^2}\n",
    "= \\left(\\frac{\\sigma_X}{\\alpha}\\right)^2.\n",
    "$$\n",
    "\n",
    "So to get a small bound on the right-hand side, one needs the deviation from the mean $\\alpha$ to be significantly larger than the standard deviation. In words, a random variable is unlikely to be away from its mean by much more than its standard deviation. This observation is consistent with the interpretation of the standard deviation as the typical spread of a random variable."
   ]
  },
  {
   "cell_type": "markdown",
   "metadata": {
    "slideshow": {
     "slide_type": "slide"
    }
   },
   "source": [
    "*Chebyshev's inequality* is particularly useful when combined with independence, as we recall next."
   ]
  },
  {
   "cell_type": "markdown",
   "metadata": {
    "slideshow": {
     "slide_type": "slide"
    }
   },
   "source": [
    "#### 1.2.3.2 Independence and limit theorems"
   ]
  },
  {
   "cell_type": "markdown",
   "metadata": {
    "slideshow": {
     "slide_type": "fragment"
    }
   },
   "source": [
    "Recall that discrete random variables $X$ and $Y$ are independent if their joint PMF factorizes, that is\n",
    "\n",
    "$$\n",
    "p_{X,Y}(x,y) = p_X(x) \\,p_Y(y), \\qquad \\forall x, y\n",
    "$$\n",
    "\n",
    "where $p_{X,Y}(x,y) = \\mathbb{P}[X=x, Y=y]$. Similarly, continuous random variables $X$ and $Y$ are independent if their joint PDF factorizes. One consequence is that expectations of products of single-variable functions factorize as well, that is, for functions $g$ and $h$ we have\n",
    "\n",
    "$$\n",
    "\\mathbb{E}[g(X) h(Y)]\n",
    "= \\mathbb{E}[g(X)] \\,\\mathbb{E}[h(Y)],\n",
    "$$\n",
    "\n",
    "provided the expectations exist."
   ]
  },
  {
   "cell_type": "markdown",
   "metadata": {
    "slideshow": {
     "slide_type": "slide"
    }
   },
   "source": [
    "An important way to quantify the lack of independence of two random variables is the covariance.\n",
    "\n",
    "**Definition (Covariance)** The covariance of random variables $X$ and $Y$ with finite means and variances is defined as\n",
    "\n",
    "$$\n",
    "\\mathrm{Cov}[X,Y]\n",
    "= \\mathbb{E}\\left[(X - \\mathbb{E}[X])(Y - \\mathbb{E}[Y])\\right].\n",
    "$$\n",
    "\n",
    "$\\lhd$\n",
    "\n",
    "Note that, by definition, the covariance is symmetric: $\\mathrm{Cov}[X,Y] = \\mathrm{Cov}[Y,X]$."
   ]
  },
  {
   "cell_type": "markdown",
   "metadata": {
    "slideshow": {
     "slide_type": "fragment"
    }
   },
   "source": [
    "When $X$ and $Y$ are independent, their covariance is $0$:\n",
    "\n",
    "$$\n",
    "\\begin{align*}\n",
    "\\mathrm{Cov}[X,Y]\n",
    "&= \\mathbb{E}\\left[(X - \\mathbb{E}[X])(Y - \\mathbb{E}[Y])\\right]\\\\\n",
    "&= \\mathbb{E}\\left[X - \\mathbb{E}[X]\\right]\\mathbb{E}\\left[Y - \\mathbb{E}[Y]\\right]\\\\\n",
    "&= \\left(\\mathbb{E}[X] - \\mathbb{E}[X]\\right)\\left(\\mathbb{E}[Y] - \\mathbb{E}[Y]\\right)\\\\\n",
    "&= 0,\n",
    "\\end{align*}\n",
    "$$\n",
    "\n",
    "where we used independence on the second line and the linearity of expectations on the third one."
   ]
  },
  {
   "cell_type": "markdown",
   "metadata": {
    "slideshow": {
     "slide_type": "slide"
    }
   },
   "source": [
    "The covariance leads to a useful identity for the variance of a sum of random variables.\n",
    "\n",
    "***\n",
    "\n",
    "**Lemma (Variance of a Sum)** Let $X_1,\\ldots,X_n$ be random variables with finite means and variances. Then we have\n",
    "\n",
    "$$\n",
    "\\mathrm{Var}[X_1 + \\cdots + X_n]\n",
    "= \\sum_{i=1} \\mathrm{Var}[X_i] + 2 \\sum_{i < j} \\mathrm{Cov}[X_i, X_j].\n",
    "$$\n",
    "\n",
    "***"
   ]
  },
  {
   "cell_type": "markdown",
   "metadata": {
    "slideshow": {
     "slide_type": "fragment"
    }
   },
   "source": [
    "*Proof:* By definition of the variance and linearity of expectations,\n",
    "\n",
    "$$\n",
    "\\begin{align*}\n",
    "\\mathrm{Var}[X_1 + \\cdots + X_n]\n",
    "&= \\mathbb{E}\\left[(X_1 + \\cdots + X_n - \\mathbb{E}[X_1 + \\cdots + X_n])^2\\right]\\\\\n",
    "&= \\mathbb{E}\\left[(X_1 + \\cdots + X_n - \\mathbb{E}[X_1] - \\cdots - \\mathbb{E}[X_n])^2\\right]\\\\\n",
    "&= \\mathbb{E}\\left[(X_1 - \\mathbb{E}[X_1]) + \\cdots + (X_n  - \\mathbb{E}[X_n]))^2\\right]\\\\\n",
    "&= \\sum_{i=1}^n \\mathbb{E}\\left[(X_i - \\mathbb{E}[X_i])^2\\right] \n",
    "+ \\sum_{i \\neq j} \\mathbb{E}\\left[(X_i - \\mathbb{E}[X_i]) (X_j - \\mathbb{E}[X_j])\\right].\n",
    "\\end{align*}\n",
    "$$\n",
    "\n",
    "The claim follows from the definition of the variance and covariance, and the symmetry of the covariance. $\\square$"
   ]
  },
  {
   "cell_type": "markdown",
   "metadata": {
    "slideshow": {
     "slide_type": "slide"
    }
   },
   "source": [
    "The previous lemma has the following important implication. If $X_1, \\ldots, X_n$ are pairwise independent, real-valued random variables, then\n",
    "\n",
    "$$\n",
    "\\mathrm{Var}[X_1 + \\cdots + X_n]\n",
    "= \\mathrm{Var}[X_1] + \\cdots + \\mathrm{Var}[X_n].\n",
    "$$\n",
    "\n",
    "Notice that, unlike the case of the expectation, this linearity property for the variance requires independence."
   ]
  },
  {
   "cell_type": "markdown",
   "metadata": {
    "slideshow": {
     "slide_type": "slide"
    }
   },
   "source": [
    "Applied to the sample mean of $n$ independent, identically distributed (i.i.d.) random variables $X_1,\\ldots,X_n$, we obtain\n",
    "\n",
    "$$\n",
    "\\begin{align*}\n",
    "\\mathrm{Var}\n",
    "\\left[\\frac{1}{n} \\sum_{i=1}^n X_i\\right]\n",
    "&= \\frac{1}{n^2} \\sum_{i=1}^n \\mathrm{Var}[X_i]\\\\\n",
    "&= \\frac{1}{n^2} n \\,\\mathrm{Var}[X_1]\\\\\n",
    "&= \\frac{\\mathrm{Var}[X_1]}{n}.\n",
    "\\end{align*}\n",
    "$$\n",
    "\n",
    "So the variance of the sample mean decreases as $n$ gets large, while its expectation remains the same by linearity\n",
    "\n",
    "$$\n",
    "\\begin{align*}\n",
    "\\mathbb{E}\n",
    "\\left[\\frac{1}{n} \\sum_{i=1}^n X_i\\right]\n",
    "&= \\frac{1}{n} \\sum_{i=1}^n \\mathbb{E}[X_i]\\\\\n",
    "&= \\frac{1}{n} n \\,\\mathbb{E}[X_1]\\\\\n",
    "&= \\mathbb{E}[X_1].\n",
    "\\end{align*}\n",
    "$$"
   ]
  },
  {
   "cell_type": "markdown",
   "metadata": {
    "slideshow": {
     "slide_type": "slide"
    }
   },
   "source": [
    "Together with *Chebyshev's inequality*, we immediately get that the sample mean approaches its expectation in the following probabilistic sense.\n",
    "\n",
    "***\n",
    "**Theorem (Weak Law of Large Numbers)** Let $X_1, \\ldots, X_n$ be i.i.d. For any $\\varepsilon > 0$, as $n \\to +\\infty$,\n",
    "\n",
    "$$\n",
    "\\mathbb{P}\\left[\\left|\\frac{1}{n} \\sum_{i=1}^n X_i \n",
    "- \\mathbb{E}[X_1]\\right| \\geq \\varepsilon\\right]\n",
    "\\to 0.\n",
    "$$\n",
    "***"
   ]
  },
  {
   "cell_type": "markdown",
   "metadata": {
    "slideshow": {
     "slide_type": "slide"
    }
   },
   "source": [
    "*Proof:* By *Chebyshev* and the formulas above,\n",
    "\n",
    "$$\n",
    "\\begin{align*}\n",
    "\\mathbb{P}\\left[\\left|\\frac{1}{n} \\sum_{i=1}^n X_i \n",
    "- \\mathbb{E}[X_1]\\right| \\geq \\varepsilon\\right]\n",
    "&= \\mathbb{P}\\left[\\left|\\frac{1}{n} \\sum_{i=1}^n X_i \n",
    "- \\mathbb{E} \\left[\\frac{1}{n} \\sum_{i=1}^n X_i\\right]\\right| \\geq \\varepsilon\\right]\\\\\n",
    "&\\leq \\frac{\\mathrm{Var}\\left[\\frac{1}{n} \\sum_{i=1}^n X_i\\right]}{\\varepsilon^2}\\\\\n",
    "&= \\frac{\\mathrm{Var}[X_1]}{n \\varepsilon^2}\\\\\n",
    "&\\to 0\n",
    "\\end{align*}\n",
    "$$\n",
    "\n",
    "as $n \\to +\\infty$. $\\square$"
   ]
  },
  {
   "cell_type": "markdown",
   "metadata": {
    "slideshow": {
     "slide_type": "slide"
    }
   },
   "source": [
    "**NUMERICAL CORNER:** We can use simulations to confirm the *Weak Law of Large Numbers*. Recall that a uniform random variable over the interval $[a,b]$ has density\n",
    "\n",
    "$$\n",
    "f_{X}(x)\n",
    "= \\begin{cases}\n",
    "\\frac{1}{b-a} & x \\in [a,b] \\\\\n",
    "0 & \\text{o.w.}\n",
    "\\end{cases}\n",
    "$$\n",
    "\n",
    "We write $X \\sim \\mathrm{U}[a,b]$. We can obtain a sample from $\\mathrm{U}[0,1]$ by using the function [`numpy.random`](https://numpy.org/doc/stable/reference/random/generator.html) in Numpy.  "
   ]
  },
  {
   "cell_type": "code",
   "execution_count": 14,
   "metadata": {
    "slideshow": {
     "slide_type": "fragment"
    }
   },
   "outputs": [],
   "source": [
    "from numpy.random import default_rng\n",
    "rng = default_rng(12345)"
   ]
  },
  {
   "cell_type": "code",
   "execution_count": 15,
   "metadata": {
    "slideshow": {
     "slide_type": "fragment"
    }
   },
   "outputs": [
    {
     "data": {
      "text/plain": [
       "0.22733602246716966"
      ]
     },
     "execution_count": 15,
     "metadata": {},
     "output_type": "execute_result"
    }
   ],
   "source": [
    "rng.random()"
   ]
  },
  {
   "cell_type": "markdown",
   "metadata": {
    "slideshow": {
     "slide_type": "slide"
    }
   },
   "source": [
    "Now we take $n$ samples from $\\mathrm{U}[0,1]$ and compute their sample mean. We repeat $k$ times and display the empirical distribution of the sample means using an [histogram](https://en.wikipedia.org/wiki/Histogram)."
   ]
  },
  {
   "cell_type": "code",
   "execution_count": 16,
   "metadata": {
    "slideshow": {
     "slide_type": "fragment"
    }
   },
   "outputs": [],
   "source": [
    "def lln_unif(n, k):\n",
    "    sample_mean = [np.mean(rng.random(n)) for i in range(k)]\n",
    "    plt.hist(sample_mean,bins=15)\n",
    "    plt.xlim(0,1)\n",
    "    plt.title(f'n={n}')\n",
    "    plt.show()"
   ]
  },
  {
   "cell_type": "code",
   "execution_count": 17,
   "metadata": {
    "scrolled": false,
    "slideshow": {
     "slide_type": "slide"
    }
   },
   "outputs": [
    {
     "data": {
      "image/png": "[encoded data removed]",
      "text/plain": [
       "<Figure size 432x288 with 1 Axes>"
      ]
     },
     "metadata": {
      "needs_background": "light"
     },
     "output_type": "display_data"
    }
   ],
   "source": [
    "lln_unif(10, 1000)"
   ]
  },
  {
   "cell_type": "markdown",
   "metadata": {
    "slideshow": {
     "slide_type": "slide"
    }
   },
   "source": [
    "Taking $n$ much larger leads to more concentration around the mean."
   ]
  },
  {
   "cell_type": "code",
   "execution_count": 18,
   "metadata": {
    "slideshow": {
     "slide_type": "fragment"
    }
   },
   "outputs": [
    {
     "data": {
      "image/png": "[encoded data removed]",
      "text/plain": [
       "<Figure size 432x288 with 1 Axes>"
      ]
     },
     "metadata": {
      "needs_background": "light"
     },
     "output_type": "display_data"
    }
   ],
   "source": [
    "lln_unif(100, 1000)"
   ]
  },
  {
   "cell_type": "markdown",
   "metadata": {
    "slideshow": {
     "slide_type": "skip"
    }
   },
   "source": [
    "$\\lhd$"
   ]
  },
  {
   "cell_type": "markdown",
   "metadata": {
    "slideshow": {
     "slide_type": "slide"
    }
   },
   "source": [
    "#### 1.2.3.3 Normal distribution"
   ]
  },
  {
   "cell_type": "markdown",
   "metadata": {
    "slideshow": {
     "slide_type": "fragment"
    }
   },
   "source": [
    "Recall that a standard Normal variable $X$ has PDF\n",
    "\n",
    "$$\n",
    "f_X(x) \n",
    "= \\frac{1}{\\sqrt{2 \\pi}}\n",
    "\\exp\\left(\n",
    "- x^2/2\n",
    "\\right).\n",
    "$$\n",
    "\n",
    "Its mean is $0$ and its variance is $1$. "
   ]
  },
  {
   "cell_type": "markdown",
   "metadata": {
    "slideshow": {
     "slide_type": "slide"
    }
   },
   "source": [
    "This is what its PDF looks like:\n",
    "\n",
    "![Normal PDF](https://upload.wikimedia.org/wikipedia/commons/thumb/4/44/Standard_Normal_Distribution.png/640px-Standard_Normal_Distribution.png)\n",
    "\n",
    "([Source](https://upload.wikimedia.org/wikipedia/commons/thumb/4/44/Standard_Normal_Distribution.png/1599px-Standard_Normal_Distribution.png))"
   ]
  },
  {
   "cell_type": "markdown",
   "metadata": {
    "slideshow": {
     "slide_type": "slide"
    }
   },
   "source": [
    "To construct a $d$-dimensional version, we take $d$ independent standard Normal variables $X_1, X_2, \\ldots, X_d$ and form the vector $\\mathbf{X} = (X_1,\\ldots,X_d)$. We will say that $\\mathbf{X}$ is a standard Normal $d$-vector. By independence, its joint PDF is given by the product of the PDFs of the $X_i$'s, that is,\n",
    "\n",
    "$$\n",
    "\\begin{align*}\n",
    "f_{\\mathbf{X}}(\\mathbf{x})\n",
    "&= \\prod_{i=1}^d \\frac{1}{\\sqrt{2 \\pi}}\n",
    "\\exp\\left(\n",
    "- x_i^2/2\n",
    "\\right)\\\\\n",
    "&= \\frac{1}{\\prod_{i=1}^d \\sqrt{2 \\pi}}\n",
    "\\exp\\left(\n",
    "- \\sum_{i=1}^d x_i^2/2\n",
    "\\right)\\\\\n",
    "&= \\frac{1}{(2 \\pi)^{d/2}} \n",
    "\\exp(-\\|\\mathbf{x}\\|^2/2).\n",
    "\\end{align*}\n",
    "$$"
   ]
  },
  {
   "cell_type": "markdown",
   "metadata": {
    "slideshow": {
     "slide_type": "fragment"
    }
   },
   "source": [
    "We can also shift and scale it.\n",
    "\n",
    "**Definition (Spherical Gaussian):** Let $\\mathbf{Z}$ be a standard Normal $d$-vector,\n",
    "let $\\boldsymbol{\\mu} \\in \\mathbb{R}^d$ and let $\\sigma \\in \\mathbb{R}_+$. Then we will refer to the transformed random variable $\\mathbf{X} = \\boldsymbol{\\mu} + \\sigma \\mathbf{Z}$ as a spherical Gaussian with mean $\\boldsymbol{\\mu}$ and variance $\\sigma^2$. We use the notation $\\mathbf{Z} \\sim N_d(\\boldsymbol{\\mu}, \\sigma^2 I)$. $\\lhd$"
   ]
  },
  {
   "cell_type": "markdown",
   "metadata": {
    "slideshow": {
     "slide_type": "slide"
    }
   },
   "source": [
    "**NUMERICAL CORNER:** The following function generates $n$ data points from a spherical $d$-dimensional Gaussians with variance $1$ and mean $w \\mathbf{e}_1$. We will use it later in the chapter to simulate interesting datasets. \n",
    "\n",
    "Below, `rng.normal(0,1,d)` generates a `d`-dimensional spherical Gaussian with mean $\\mathbf{0}$. Below we use the function [`numpy.concatenate`](https://numpy.org/doc/stable/reference/generated/numpy.concatenate.html) to create a vector by concatenating two given vectors. We use `[w]` to create a vector with a single entry `w`. We also use the function [`numpy.zeros`](https://numpy.org/doc/stable/reference/generated/numpy.zeros.html) to create an all-zero vector. "
   ]
  },
  {
   "cell_type": "code",
   "execution_count": 19,
   "metadata": {
    "slideshow": {
     "slide_type": "fragment"
    }
   },
   "outputs": [],
   "source": [
    "def one_cluster(d, n, w):\n",
    "    X = np.stack([np.concatenate(([w], np.zeros(d-1))) + rng.normal(0,1,d) for _ in range(n)])\n",
    "    return X"
   ]
  },
  {
   "cell_type": "markdown",
   "metadata": {
    "slideshow": {
     "slide_type": "slide"
    }
   },
   "source": [
    "We generate $100$ data points in dimension $d=2$."
   ]
  },
  {
   "cell_type": "code",
   "execution_count": 20,
   "metadata": {
    "slideshow": {
     "slide_type": "fragment"
    }
   },
   "outputs": [
    {
     "data": {
      "image/png": "[encoded data removed]",
      "text/plain": [
       "<Figure size 432x288 with 1 Axes>"
      ]
     },
     "metadata": {
      "needs_background": "light"
     },
     "output_type": "display_data"
    }
   ],
   "source": [
    "d, n, w = 2, 100, 3.\n",
    "X = one_cluster(d, n, w)\n",
    "plt.scatter(X[:,0], X[:,1])\n",
    "plt.show()"
   ]
  }
 ],
 "metadata": {
  "celltoolbar": "Slideshow",
  "kernelspec": {
   "display_name": "Python 3 (ipykernel)",
   "language": "python",
   "name": "python3"
  },
  "language_info": {
   "codemirror_mode": {
    "name": "ipython",
    "version": 3
   },
   "file_extension": ".py",
   "mimetype": "text/x-python",
   "name": "python",
   "nbconvert_exporter": "python",
   "pygments_lexer": "ipython3",
   "version": "3.9.13"
  }
 },
 "nbformat": 4,
 "nbformat_minor": 2
}
