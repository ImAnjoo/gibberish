{
  "metadata": {
    "kernelspec": {
      "name": "python",
      "display_name": "Python (Pyodide)",
      "language": "python"
    },
    "language_info": {
      "codemirror_mode": {
        "name": "python",
        "version": 3
      },
      "file_extension": ".py",
      "mimetype": "text/x-python",
      "name": "python",
      "nbconvert_exporter": "python",
      "pygments_lexer": "ipython3",
      "version": "3.8"
    }
  },
  "nbformat_minor": 4,
  "nbformat": 4,
  "cells": [
    {
      "cell_type": "markdown",
      "source": "***\n\n*Course:* [Math 535](https://people.math.wisc.edu/~roch/mmids/) - Mathematical Methods in Data Science (MMiDS) - Spring 2023\n\n*Name:* Andrew Sischo\n\n***\n\n# HW 1 ",
      "metadata": {
        "slideshow": {
          "slide_type": "-"
        }
      }
    },
    {
      "cell_type": "markdown",
      "source": "**Instructions:**\n\n1. Open the notebook in [Google Colab](https://colab.research.google.com/) or locally using your own python environment.\n\n2. Download the required dataset from Canvas.\n\n3. In the notebook, write your name above and do the exercises below.\n\n4. Run every cell.\n\n5. In the File menu, print and \"Save as PDF\". (If running locally, print the page as a PDF.)\n\n6. Due date and instructions to submit your PDF will be given on Canvas.",
      "metadata": {}
    },
    {
      "cell_type": "code",
      "source": "import pandas as pd\nimport numpy as np\nimport matplotlib.pyplot as plt",
      "metadata": {
        "trusted": true
      },
      "execution_count": null,
      "outputs": []
    },
    {
      "cell_type": "code",
      "source": "# IF RUNNING ON GOOGLE COLAB\n# When prompted, upload: \n#     * hwk1-f22-data.csv \n# from your local file system\n# Data source: https://www.math.wisc.edu/~roch/mmids/\n# Alternative instructions: https://colab.research.google.com/notebooks/io.ipynb\n\n#from google.colab import files\n\n#uploaded = files.upload()\n\n#for fn in uploaded.keys():\n    #print('User uploaded file \"{name}\" with length {length} bytes'.format(name=fn, length=len(uploaded[fn])))",
      "metadata": {
        "trusted": true
      },
      "execution_count": null,
      "outputs": []
    },
    {
      "cell_type": "code",
      "source": "# If running locally, directly load .csv file you downloaded from Canvas using pandas.\n# (Google search how to load csv using pandas.) ",
      "metadata": {
        "trusted": true
      },
      "execution_count": null,
      "outputs": []
    },
    {
      "cell_type": "markdown",
      "source": "The goal of this assignment is to compute the final grade for each student in a simulated Math 535 class. **First review the Math 535 syllabus on Piazza, as you need to use the grading scheme described there.**",
      "metadata": {}
    },
    {
      "cell_type": "markdown",
      "source": "First load the dataset `hwk1-f22-data.csv` available on Canvas. For all students in a simulated class, it consists of scores for 12 assignments (`hwk1`, `hwk2`, etc.) out of 10 points, two midterms and a project, each out of 100 points. Note that an assignment score of `0.0` indicates that a student did not submit the corresponding assignment. Each student is identified by a 9-digit `stud_id`.",
      "metadata": {}
    },
    {
      "cell_type": "code",
      "source": "df = pd.read_csv(\"HW1-S23-data.csv\")\ndf.describe()",
      "metadata": {
        "trusted": true
      },
      "execution_count": null,
      "outputs": []
    },
    {
      "cell_type": "code",
      "source": "n = len(df)\nprint(n)",
      "metadata": {
        "trusted": true
      },
      "execution_count": null,
      "outputs": []
    },
    {
      "cell_type": "markdown",
      "source": "Extract the columns corresponding to homework assignment scores into a 2d Numpy array where the rows are students and the columns are assignments. [*Hint*: Use [`to_numpy()`](https://pandas.pydata.org/pandas-docs/stable/reference/api/pandas.DataFrame.to_numpy.html) as we did in Section 1.1.]",
      "metadata": {}
    },
    {
      "cell_type": "code",
      "source": "Xh = df[df.columns[2:14]].to_numpy()\nprint(Xh[0:5])",
      "metadata": {
        "trusted": true
      },
      "execution_count": null,
      "outputs": []
    },
    {
      "cell_type": "markdown",
      "source": "Similarly, extract the columns for the midterms. ",
      "metadata": {}
    },
    {
      "cell_type": "code",
      "source": "Xm = df[['midterm1','midterm2']].to_numpy()\nprint(Xm[0:5])",
      "metadata": {
        "trusted": true
      },
      "execution_count": null,
      "outputs": []
    },
    {
      "cell_type": "markdown",
      "source": "Finally, extract the column corresponding to project scores into a 1d Numpy array where the rows are students.",
      "metadata": {}
    },
    {
      "cell_type": "code",
      "source": "Xp = df[['project']].to_numpy()\nprint(Xp[0:5])",
      "metadata": {
        "trusted": true
      },
      "execution_count": null,
      "outputs": []
    },
    {
      "cell_type": "markdown",
      "source": "Define a function that computes the final grade (the numerical score out of 100, not the letter grade) *for one student* given a vector of assignment, midterm and project scores. Check the Math 535 syllabus for the grading scheme. ",
      "metadata": {}
    },
    {
      "cell_type": "code",
      "source": "# INPUT:  assignment scores `sh` as a vector\n#         midterm scores `sm` as a vector\n#         project score `sp` as a scalar\n# OUTPUT: final grade\ndef final_grade(sh, sm, sp):\n    top_hwk = np.sort(sh)[2:12]\n    hwk = (sum(top_hwk) * 25) / 100\n    midterm1 = (sm[0] * 25) / 100\n    midterm2 = (sm[1] * 25) / 100\n    project = (sp[0] * 25) / 100\n    return hwk + midterm1 + midterm2 + project",
      "metadata": {
        "trusted": true
      },
      "execution_count": null,
      "outputs": []
    },
    {
      "cell_type": "markdown",
      "source": "Use `final_grade` to compute the final grade for the first student in the class (i.e. the one on the first row of the dataframe).",
      "metadata": {}
    },
    {
      "cell_type": "code",
      "source": "final_grade(Xh[0],Xm[0],Xp[0])",
      "metadata": {
        "trusted": true
      },
      "execution_count": null,
      "outputs": []
    },
    {
      "cell_type": "markdown",
      "source": "Use `final_grade` to compute final grades for all students in the class.",
      "metadata": {}
    },
    {
      "cell_type": "code",
      "source": "Xg = np.zeros(n) # final grades\nfor i in range(n):\n    Xg[i] = final_grade(Xh[i],Xm[i],Xp[i])",
      "metadata": {
        "trusted": true
      },
      "execution_count": null,
      "outputs": []
    },
    {
      "cell_type": "markdown",
      "source": "Compute the mean and standard deviation of the final grades. You may use [Numpy statistics functions](https://numpy.org/doc/stable/reference/routines.statistics.html).",
      "metadata": {}
    },
    {
      "cell_type": "code",
      "source": "mn = Xg.mean()\nprint(mn)",
      "metadata": {
        "trusted": true
      },
      "execution_count": null,
      "outputs": []
    },
    {
      "cell_type": "code",
      "source": "sd = Xg.std()\nprint(sd)",
      "metadata": {
        "trusted": true
      },
      "execution_count": null,
      "outputs": []
    },
    {
      "cell_type": "markdown",
      "source": "Plot a histogram of the final grades.",
      "metadata": {}
    },
    {
      "cell_type": "code",
      "source": "plt.hist(Xg)\nplt.xlabel('Score')\nplt.ylabel('Frequency')\nplt.title('Student Scores for Math 535')",
      "metadata": {
        "trusted": true
      },
      "execution_count": null,
      "outputs": []
    },
    {
      "cell_type": "markdown",
      "source": "$\\lhd$",
      "metadata": {}
    }
  ]
}